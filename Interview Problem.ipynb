{
 "cells": [
  {
   "cell_type": "code",
   "execution_count": 1,
   "metadata": {
    "ExecuteTime": {
     "end_time": "2018-05-14T08:16:04.614901Z",
     "start_time": "2018-05-14T08:16:02.421027Z"
    }
   },
   "outputs": [],
   "source": [
    "import pandas as pd\n",
    "import numpy as np\n",
    "import matplotlib.pyplot as plt\n",
    "\n",
    "import seaborn as sns\n",
    "\n",
    "%matplotlib inline"
   ]
  },
  {
   "cell_type": "code",
   "execution_count": 2,
   "metadata": {
    "ExecuteTime": {
     "end_time": "2018-05-14T08:16:06.725263Z",
     "start_time": "2018-05-14T08:16:04.619222Z"
    }
   },
   "outputs": [
    {
     "name": "stderr",
     "output_type": "stream",
     "text": [
      "/Users/CrazyGear/anaconda2/envs/py36/lib/python3.6/site-packages/IPython/core/interactiveshell.py:2728: DtypeWarning: Columns (18) have mixed types. Specify dtype option on import or set low_memory=False.\n",
      "  interactivity=interactivity, compiler=compiler, result=result)\n",
      "/Users/CrazyGear/anaconda2/envs/py36/lib/python3.6/site-packages/IPython/core/interactiveshell.py:2728: DtypeWarning: Columns (12,20,63) have mixed types. Specify dtype option on import or set low_memory=False.\n",
      "  interactivity=interactivity, compiler=compiler, result=result)\n"
     ]
    }
   ],
   "source": [
    "df_account_raw = pd.read_csv('data/raw_account_70_new.csv', index_col=False, header=0)\n",
    "df_data_raw = pd.read_csv('data/raw_data_70_new.csv', index_col=False, header=0)\n",
    "df_enquiry_raw = pd.read_csv('data/raw_enquiry_70_new.csv', index_col=False, header=0)"
   ]
  },
  {
   "cell_type": "code",
   "execution_count": 94,
   "metadata": {
    "ExecuteTime": {
     "end_time": "2018-05-14T10:55:46.755176Z",
     "start_time": "2018-05-14T10:55:45.305524Z"
    }
   },
   "outputs": [
    {
     "name": "stderr",
     "output_type": "stream",
     "text": [
      "/Users/CrazyGear/anaconda2/envs/py36/lib/python3.6/site-packages/IPython/core/interactiveshell.py:2728: DtypeWarning: Columns (18) have mixed types. Specify dtype option on import or set low_memory=False.\n",
      "  interactivity=interactivity, compiler=compiler, result=result)\n",
      "/Users/CrazyGear/anaconda2/envs/py36/lib/python3.6/site-packages/IPython/core/interactiveshell.py:2728: DtypeWarning: Columns (12,20,63) have mixed types. Specify dtype option on import or set low_memory=False.\n",
      "  interactivity=interactivity, compiler=compiler, result=result)\n"
     ]
    }
   ],
   "source": [
    "df_account_test_raw = pd.read_csv('data/raw_account_30_new.csv', index_col=False, header=0)\n",
    "df_data_test_raw = pd.read_csv('data/raw_data_30_new.csv', index_col=False, header=0)\n",
    "df_enquiry_test_raw = pd.read_csv('data/raw_enquiry_30_new.csv', index_col=False, header=0)"
   ]
  },
  {
   "cell_type": "markdown",
   "metadata": {},
   "source": [
    "## Data Clearning"
   ]
  },
  {
   "cell_type": "markdown",
   "metadata": {},
   "source": [
    "#### Missing values - equiry table"
   ]
  },
  {
   "cell_type": "code",
   "execution_count": 3,
   "metadata": {
    "ExecuteTime": {
     "end_time": "2018-05-14T08:16:10.491055Z",
     "start_time": "2018-05-14T08:16:10.346347Z"
    }
   },
   "outputs": [],
   "source": [
    "df_enquiry = df_enquiry_raw.drop(df_enquiry_raw.index[df_enquiry_raw['enq_amt'].isna()])"
   ]
  },
  {
   "cell_type": "code",
   "execution_count": 95,
   "metadata": {
    "ExecuteTime": {
     "end_time": "2018-05-14T10:56:41.133995Z",
     "start_time": "2018-05-14T10:56:41.020978Z"
    }
   },
   "outputs": [],
   "source": [
    "df_enquiry_test = df_enquiry_test_raw.drop(df_enquiry_test_raw.index[df_enquiry_test_raw['enq_amt'].isna()])"
   ]
  },
  {
   "cell_type": "code",
   "execution_count": 4,
   "metadata": {
    "ExecuteTime": {
     "end_time": "2018-05-14T08:16:11.286720Z",
     "start_time": "2018-05-14T08:16:11.282928Z"
    }
   },
   "outputs": [],
   "source": [
    "df_account = df_account_raw\n",
    "df_data = df_data_raw"
   ]
  },
  {
   "cell_type": "code",
   "execution_count": 96,
   "metadata": {
    "ExecuteTime": {
     "end_time": "2018-05-14T10:56:43.253861Z",
     "start_time": "2018-05-14T10:56:43.248247Z"
    }
   },
   "outputs": [],
   "source": [
    "df_account_test = df_account_test_raw\n",
    "df_data_test = df_data_test_raw"
   ]
  },
  {
   "cell_type": "markdown",
   "metadata": {},
   "source": [
    "## Feature Engineering"
   ]
  },
  {
   "cell_type": "code",
   "execution_count": 5,
   "metadata": {
    "ExecuteTime": {
     "end_time": "2018-05-14T08:16:17.692519Z",
     "start_time": "2018-05-14T08:16:17.687069Z"
    }
   },
   "outputs": [],
   "source": [
    "# engineered dataframe\n",
    "df_engineered = df_data[['customer_no','Bad_label']]"
   ]
  },
  {
   "cell_type": "code",
   "execution_count": 97,
   "metadata": {
    "ExecuteTime": {
     "end_time": "2018-05-14T10:57:04.892075Z",
     "start_time": "2018-05-14T10:57:04.885974Z"
    }
   },
   "outputs": [],
   "source": [
    "# engineered dataframe\n",
    "df_engineered_test = df_data_test[['customer_no','Bad_label']]"
   ]
  },
  {
   "cell_type": "code",
   "execution_count": 6,
   "metadata": {
    "ExecuteTime": {
     "end_time": "2018-05-14T08:16:18.987786Z",
     "start_time": "2018-05-14T08:16:18.980376Z"
    }
   },
   "outputs": [],
   "source": [
    "from datetime import datetime\n",
    "\n",
    "def col_to_datetime(df, col_name, format=\"%d-%b-%y\"):\n",
    "    # %d-%b-%y, e.g. 19-Dec-13\n",
    "    if not isinstance(col_name,list):\n",
    "        col_name = [col_name]\n",
    "    for name in col_name:\n",
    "        df[name] = pd.to_datetime(df[name], format=format)"
   ]
  },
  {
   "cell_type": "markdown",
   "metadata": {
    "ExecuteTime": {
     "end_time": "2018-05-12T11:36:54.627564Z",
     "start_time": "2018-05-12T11:36:54.609374Z"
    }
   },
   "source": [
    "#### 1. `payment_history_avg_dpd_0_29_bucket`\n",
    "mean count of accounts that is in 0-29 dpd bucket throughout the payment history"
   ]
  },
  {
   "cell_type": "code",
   "execution_count": 7,
   "metadata": {
    "ExecuteTime": {
     "end_time": "2018-05-14T08:16:22.688901Z",
     "start_time": "2018-05-14T08:16:22.656231Z"
    }
   },
   "outputs": [],
   "source": [
    "def dpd_history(row):\n",
    "    history=[]\n",
    "    # history 1, make use of syntax sugar, same effect as how h2 is calculated\n",
    "    history1 = row['paymenthistory1']\n",
    "    h1 = history1 and not pd.isna(history1) and history1[3:-3] or ''\n",
    "\n",
    "    # history 2\n",
    "    history2 = row['paymenthistory2']\n",
    "    if history2 and not pd.isna(history2):\n",
    "        h2=history2[3:-3]\n",
    "    else:\n",
    "        h2=''\n",
    "\n",
    "    # concat h1 and h2\n",
    "    h = h1+h2\n",
    "\n",
    "    if len(h)%3!=0:\n",
    "        print('length of payment history should be multiples of 3')\n",
    "\n",
    "    for i in range(int(len(h)/3)):\n",
    "        try:\n",
    "            dpd = int(h[3*i:3*i+3])\n",
    "            history.append(dpd)\n",
    "        except:\n",
    "            history.append(h[3*i:3*i+3])\n",
    "    return history"
   ]
  },
  {
   "cell_type": "code",
   "execution_count": 8,
   "metadata": {
    "ExecuteTime": {
     "end_time": "2018-05-14T08:16:34.532327Z",
     "start_time": "2018-05-14T08:16:23.265569Z"
    }
   },
   "outputs": [],
   "source": [
    "df_account['dpd_history'] = df_account.apply(dpd_history, axis=1)"
   ]
  },
  {
   "cell_type": "code",
   "execution_count": 98,
   "metadata": {
    "ExecuteTime": {
     "end_time": "2018-05-14T10:57:32.711134Z",
     "start_time": "2018-05-14T10:57:25.696119Z"
    }
   },
   "outputs": [],
   "source": [
    "df_account_test['dpd_history'] = df_account_test.apply(dpd_history, axis=1)"
   ]
  },
  {
   "cell_type": "code",
   "execution_count": 9,
   "metadata": {
    "ExecuteTime": {
     "end_time": "2018-05-14T08:16:57.444552Z",
     "start_time": "2018-05-14T08:16:34.536500Z"
    }
   },
   "outputs": [],
   "source": [
    "def avg_dpd_0_29(df):\n",
    "    dpd_account_list=[]\n",
    "    for index, row in df.iterrows():\n",
    "        dpd_list = row['dpd_history']\n",
    "        flag_above_30_dpd = False\n",
    "        for dpd in dpd_list:\n",
    "            if isinstance(dpd, int) and dpd>29: # found dpd>30, not in 0_29 bucket\n",
    "                flag_above_30_dpd = True\n",
    "                break\n",
    "        dpd_account_list.append(0 if flag_above_30_dpd else 1)\n",
    "    return sum(dpd_account_list)/len(dpd_account_list)\n",
    "\n",
    "df_temp = df_account.groupby(['customer_no']).apply(avg_dpd_0_29).reset_index(name='payment_history_avg_dpd_0_29_bucket')\n",
    "df_engineered = pd.merge(df_engineered, df_temp, on=['customer_no'], how='left')"
   ]
  },
  {
   "cell_type": "code",
   "execution_count": 148,
   "metadata": {
    "ExecuteTime": {
     "end_time": "2018-05-14T11:40:00.128706Z",
     "start_time": "2018-05-14T11:39:46.816109Z"
    }
   },
   "outputs": [],
   "source": [
    "df_temp = df_account_test.groupby(['customer_no']).apply(avg_dpd_0_29).reset_index(name='payment_history_avg_dpd_0_29_bucket')\n",
    "df_engineered_test = pd.merge(df_engineered_test, df_temp, on=['customer_no'], how='left')"
   ]
  },
  {
   "cell_type": "markdown",
   "metadata": {},
   "source": [
    "#### 2 `total_diff_lastpaymt_opened_dt`\n",
    "The total duration between last payment date and account opened date of all accounts"
   ]
  },
  {
   "cell_type": "code",
   "execution_count": 10,
   "metadata": {
    "ExecuteTime": {
     "end_time": "2018-05-14T08:17:45.554719Z",
     "start_time": "2018-05-14T08:16:57.450128Z"
    }
   },
   "outputs": [],
   "source": [
    "col_to_datetime(df_account, ['last_paymt_dt','opened_dt'])\n",
    "df_temp = df_account.groupby(['customer_no']) \\\n",
    "    .apply(lambda group: (group['last_paymt_dt']-group['opened_dt']).dt.days.sum()) \\\n",
    "    .reset_index(name='total_diff_lastpaymt_opened_dt')\n",
    "df_engineered = pd.merge(df_engineered, df_temp, on=['customer_no'], how='inner')"
   ]
  },
  {
   "cell_type": "code",
   "execution_count": 100,
   "metadata": {
    "ExecuteTime": {
     "end_time": "2018-05-14T10:59:27.478757Z",
     "start_time": "2018-05-14T10:59:07.970899Z"
    }
   },
   "outputs": [],
   "source": [
    "col_to_datetime(df_account_test, ['last_paymt_dt','opened_dt'])\n",
    "df_temp = df_account_test.groupby(['customer_no']) \\\n",
    "    .apply(lambda group: (group['last_paymt_dt']-group['opened_dt']).dt.days.sum()) \\\n",
    "    .reset_index(name='total_diff_lastpaymt_opened_dt')\n",
    "df_engineered_test = pd.merge(df_engineered_test, df_temp, on=['customer_no'], how='inner')"
   ]
  },
  {
   "cell_type": "markdown",
   "metadata": {},
   "source": [
    "#### 3. `min_months_last_30_plus`\n",
    "The smallest number of months passed before first 30+ dpd appeared for each account."
   ]
  },
  {
   "cell_type": "code",
   "execution_count": 11,
   "metadata": {
    "ExecuteTime": {
     "end_time": "2018-05-14T08:18:13.008932Z",
     "start_time": "2018-05-14T08:17:45.558633Z"
    }
   },
   "outputs": [],
   "source": [
    "def min_months_lt_30(df):\n",
    "    dpd_list=[]\n",
    "    for index, row in df.iterrows():\n",
    "        count=0\n",
    "        for dpd in row['dpd_history']:\n",
    "            if isinstance(dpd, int) and dpd>29: # found dpd>30, not in 0_29 bucket\n",
    "                break\n",
    "            else:\n",
    "                count+=1\n",
    "        dpd_list.append(count)\n",
    "    return min(dpd_list)\n",
    "\n",
    "# df_temp = \n",
    "df_temp = df_account.groupby(['customer_no']).apply(min_months_lt_30).reset_index(name='min_months_last_30_plus')\n",
    "df_engineered = pd.merge(df_engineered, df_temp, on=['customer_no'], how='left')"
   ]
  },
  {
   "cell_type": "code",
   "execution_count": 101,
   "metadata": {
    "ExecuteTime": {
     "end_time": "2018-05-14T10:59:40.976758Z",
     "start_time": "2018-05-14T10:59:29.848123Z"
    }
   },
   "outputs": [],
   "source": [
    "df_temp = df_account_test.groupby(['customer_no']).apply(min_months_lt_30).reset_index(name='min_months_last_30_plus')\n",
    "df_engineered_test = pd.merge(df_engineered_test, df_temp, on=['customer_no'], how='left')"
   ]
  },
  {
   "cell_type": "markdown",
   "metadata": {},
   "source": [
    "#### 4. `utilisation_trend`\n",
    "[total cur_bal_amt / total credit\n",
    "limit]/\n",
    "[mean cur_bal_amt / (mean\n",
    "credit limit+ mean_cashlimit)]"
   ]
  },
  {
   "cell_type": "code",
   "execution_count": 12,
   "metadata": {
    "ExecuteTime": {
     "end_time": "2018-05-14T08:19:12.167304Z",
     "start_time": "2018-05-14T08:18:13.012412Z"
    }
   },
   "outputs": [],
   "source": [
    "def utilisation_trend(group):\n",
    "    # extra code to handle nan cases\n",
    "    cur_balance_amt = group[~group['cur_balance_amt'].isna()]['cur_balance_amt'].as_matrix()\n",
    "    creditlimit = group[~group['creditlimit'].isna()]['creditlimit'].as_matrix()\n",
    "    cashlimit = group[~group['cashlimit'].isna()]['cashlimit'].as_matrix()\n",
    "    credit_mean = 0 if len(creditlimit)==0 else creditlimit.mean()\n",
    "    cash_mean = 0 if len(cashlimit)==0 else cashlimit.mean()\n",
    "    return len(cur_balance_amt)/(creditlimit.sum()+1e-5)*(credit_mean+cash_mean)\n",
    "\n",
    "df_temp = df_account.groupby(['customer_no']) \\\n",
    "    .apply(utilisation_trend).reset_index(name='utilisation_trend')\n",
    "df_engineered = pd.merge(df_engineered, df_temp, on=['customer_no'], how='left')"
   ]
  },
  {
   "cell_type": "code",
   "execution_count": 102,
   "metadata": {
    "ExecuteTime": {
     "end_time": "2018-05-14T11:00:14.880693Z",
     "start_time": "2018-05-14T10:59:47.637430Z"
    }
   },
   "outputs": [],
   "source": [
    "df_temp = df_account_test.groupby(['customer_no']) \\\n",
    "    .apply(utilisation_trend).reset_index(name='utilisation_trend')\n",
    "df_engineered_test = pd.merge(df_engineered_test, df_temp, on=['customer_no'], how='left')"
   ]
  },
  {
   "cell_type": "markdown",
   "metadata": {},
   "source": [
    "#### 5. `count_enquiry_recency_365` \n",
    "number of enquiry made in past 365 days"
   ]
  },
  {
   "cell_type": "code",
   "execution_count": 13,
   "metadata": {
    "ExecuteTime": {
     "end_time": "2018-05-14T08:19:17.250113Z",
     "start_time": "2018-05-14T08:19:12.174249Z"
    }
   },
   "outputs": [],
   "source": [
    "# convert datetime column to the right dtype\n",
    "col_to_datetime(df_enquiry, ['dt_opened','upload_dt','enquiry_dt'])"
   ]
  },
  {
   "cell_type": "code",
   "execution_count": 103,
   "metadata": {
    "ExecuteTime": {
     "end_time": "2018-05-14T11:00:17.207857Z",
     "start_time": "2018-05-14T11:00:14.886070Z"
    }
   },
   "outputs": [],
   "source": [
    "# convert datetime column to the right dtype\n",
    "col_to_datetime(df_enquiry_test, ['dt_opened','upload_dt','enquiry_dt'])"
   ]
  },
  {
   "cell_type": "code",
   "execution_count": 14,
   "metadata": {
    "ExecuteTime": {
     "end_time": "2018-05-14T08:19:26.824806Z",
     "start_time": "2018-05-14T08:19:17.254540Z"
    }
   },
   "outputs": [],
   "source": [
    "df_temp = df_enquiry.groupby(['customer_no']).apply(lambda group: (group['enquiry_dt']>datetime(2014,12,31)).sum()).reset_index(name='count_enquiry_recency_365')\n",
    "df_engineered = pd.merge(df_engineered, df_temp, on=['customer_no'], how='inner')"
   ]
  },
  {
   "cell_type": "code",
   "execution_count": 104,
   "metadata": {
    "ExecuteTime": {
     "end_time": "2018-05-14T11:00:23.454567Z",
     "start_time": "2018-05-14T11:00:18.280394Z"
    }
   },
   "outputs": [],
   "source": [
    "df_temp = df_enquiry_test.groupby(['customer_no']).apply(lambda group: (group['enquiry_dt']>datetime(2014,12,31)).sum()).reset_index(name='count_enquiry_recency_365')\n",
    "df_engineered_test = pd.merge(df_engineered_test, df_temp, on=['customer_no'], how='inner')"
   ]
  },
  {
   "cell_type": "markdown",
   "metadata": {},
   "source": [
    "#### 6. `ratio_currbalance_creditlimit`  \n",
    "$$\\frac{total\\ cur\\_bal\\_amt}{total\\ credit\\ limit}$$"
   ]
  },
  {
   "cell_type": "code",
   "execution_count": 15,
   "metadata": {
    "ExecuteTime": {
     "end_time": "2018-05-14T08:19:35.706568Z",
     "start_time": "2018-05-14T08:19:26.828475Z"
    }
   },
   "outputs": [],
   "source": [
    "df_temp = df_account.groupby(['customer_no']).apply(lambda group: (group['cur_balance_amt']).sum()/((group['creditlimit']).sum()+0.01)).reset_index(name='ratio_currbalance_creditlimit')\n",
    "df_engineered = pd.merge(df_engineered, df_temp, on=['customer_no'], how='inner')"
   ]
  },
  {
   "cell_type": "code",
   "execution_count": 105,
   "metadata": {
    "ExecuteTime": {
     "end_time": "2018-05-14T11:00:39.716282Z",
     "start_time": "2018-05-14T11:00:35.817258Z"
    }
   },
   "outputs": [],
   "source": [
    "df_temp = df_account_test.groupby(['customer_no']).apply(lambda group: (group['cur_balance_amt']).sum()/((group['creditlimit']).sum()+0.01)).reset_index(name='ratio_currbalance_creditlimit')\n",
    "df_engineered_test = pd.merge(df_engineered_test, df_temp, on=['customer_no'], how='inner')"
   ]
  },
  {
   "cell_type": "markdown",
   "metadata": {},
   "source": [
    "#### 7. `mean_diff_lastpaymt_opened_dt`\n",
    "The average duration between last payment date and account opened date of all accounts"
   ]
  },
  {
   "cell_type": "code",
   "execution_count": 16,
   "metadata": {
    "ExecuteTime": {
     "end_time": "2018-05-14T08:21:03.348761Z",
     "start_time": "2018-05-14T08:19:35.710425Z"
    }
   },
   "outputs": [],
   "source": [
    "col_to_datetime(df_account, ['last_paymt_dt','opened_dt'])\n",
    "def mean_diff_lastpay_open(group):\n",
    "    group = group[~group['last_paymt_dt'].isna()]\n",
    "    group = group[~group['opened_dt'].isna()]\n",
    "    days = (group['last_paymt_dt']-group['opened_dt']).dt.days.as_matrix()\n",
    "    return 0 if len(days)==0 else days.sum()/len(days)\n",
    "\n",
    "df_temp = df_account.groupby(['customer_no']).apply(mean_diff_lastpay_open)\\\n",
    "    .reset_index(name='mean_diff_lastpaymt_opened_dt')\n",
    "df_engineered = pd.merge(df_engineered, df_temp, on=['customer_no'], how='inner')"
   ]
  },
  {
   "cell_type": "code",
   "execution_count": 106,
   "metadata": {
    "ExecuteTime": {
     "end_time": "2018-05-14T11:01:43.385863Z",
     "start_time": "2018-05-14T11:01:08.144273Z"
    }
   },
   "outputs": [],
   "source": [
    "col_to_datetime(df_account_test, ['last_paymt_dt','opened_dt'])\n",
    "\n",
    "df_temp = df_account_test.groupby(['customer_no']).apply(mean_diff_lastpay_open)\\\n",
    "    .reset_index(name='mean_diff_lastpaymt_opened_dt')\n",
    "df_engineered_test = pd.merge(df_engineered_test, df_temp, on=['customer_no'], how='inner')"
   ]
  },
  {
   "cell_type": "markdown",
   "metadata": {},
   "source": [
    "#### 8.`mean_diff_open_enquiry_dt`\n",
    "average difference between enquiry dt_opened date and enquiry date"
   ]
  },
  {
   "cell_type": "code",
   "execution_count": 17,
   "metadata": {
    "ExecuteTime": {
     "end_time": "2018-05-14T08:22:05.999599Z",
     "start_time": "2018-05-14T08:21:03.358472Z"
    }
   },
   "outputs": [],
   "source": [
    "col_to_datetime(df_enquiry, ['dt_opened','enquiry_dt'])\n",
    "df_temp = df_enquiry.groupby(['customer_no']).apply(lambda group: (group['enquiry_dt']-group['dt_opened']).dt.days.mean()).reset_index(name='mean_diff_open_enquiry_dt')\n",
    "df_engineered = pd.merge(df_engineered, df_temp, on=['customer_no'], how='inner')"
   ]
  },
  {
   "cell_type": "code",
   "execution_count": 107,
   "metadata": {
    "ExecuteTime": {
     "end_time": "2018-05-14T11:02:02.806441Z",
     "start_time": "2018-05-14T11:01:43.389361Z"
    }
   },
   "outputs": [],
   "source": [
    "col_to_datetime(df_enquiry_test, ['dt_opened','enquiry_dt'])\n",
    "df_temp = df_enquiry_test.groupby(['customer_no']).apply(lambda group: (group['enquiry_dt']-group['dt_opened']).dt.days.mean()).reset_index(name='mean_diff_open_enquiry_dt')\n",
    "df_engineered_test = pd.merge(df_engineered_test, df_temp, on=['customer_no'], how='inner')"
   ]
  },
  {
   "cell_type": "markdown",
   "metadata": {},
   "source": [
    "#### 9. `payment_history_mean_length`\n",
    "average length of payment_history variable"
   ]
  },
  {
   "cell_type": "code",
   "execution_count": 18,
   "metadata": {
    "ExecuteTime": {
     "end_time": "2018-05-14T08:22:42.725842Z",
     "start_time": "2018-05-14T08:22:06.009707Z"
    }
   },
   "outputs": [],
   "source": [
    "def avg_payment_length(df):\n",
    "    payment_length = []\n",
    "    for index, row in df.iterrows():\n",
    "        payment_length.append(len(row['dpd_history']))\n",
    "    return sum(payment_length)/len(payment_length)\n",
    "\n",
    "# df_temp = \n",
    "df_temp = df_account.groupby(['customer_no']) \\\n",
    "    .apply(avg_payment_length).reset_index(name='payment_history_mean_length')\n",
    "df_engineered = pd.merge(df_engineered, df_temp, on=['customer_no'], how='left')"
   ]
  },
  {
   "cell_type": "code",
   "execution_count": 108,
   "metadata": {
    "ExecuteTime": {
     "end_time": "2018-05-14T11:02:13.903558Z",
     "start_time": "2018-05-14T11:02:02.809829Z"
    }
   },
   "outputs": [],
   "source": [
    "df_temp = df_account_test.groupby(['customer_no']) \\\n",
    "    .apply(avg_payment_length).reset_index(name='payment_history_mean_length')\n",
    "df_engineered_test = pd.merge(df_engineered_test, df_temp, on=['customer_no'], how='left')"
   ]
  },
  {
   "cell_type": "markdown",
   "metadata": {},
   "source": [
    "#### 10. `max_freq_enquiry` \n",
    "most frequent enquiry purpose"
   ]
  },
  {
   "cell_type": "code",
   "execution_count": 19,
   "metadata": {
    "ExecuteTime": {
     "end_time": "2018-05-14T08:22:45.462617Z",
     "start_time": "2018-05-14T08:22:42.735012Z"
    }
   },
   "outputs": [],
   "source": [
    "from collections import Counter\n",
    "\n",
    "df_temp = df_enquiry.groupby(['customer_no']) \\\n",
    "    .apply(lambda group: Counter(list(group['enq_purpose'])).most_common(1)[0][0]) \\\n",
    "    .reset_index(name='max_freq_enquiry')\n",
    "df_engineered = pd.merge(df_engineered, df_temp, on=['customer_no'], how='inner')"
   ]
  },
  {
   "cell_type": "code",
   "execution_count": 109,
   "metadata": {
    "ExecuteTime": {
     "end_time": "2018-05-14T11:02:22.435762Z",
     "start_time": "2018-05-14T11:02:21.534507Z"
    }
   },
   "outputs": [],
   "source": [
    "df_temp = df_enquiry_test.groupby(['customer_no']) \\\n",
    "    .apply(lambda group: Counter(list(group['enq_purpose'])).most_common(1)[0][0]) \\\n",
    "    .reset_index(name='max_freq_enquiry')\n",
    "df_engineered_test = pd.merge(df_engineered_test, df_temp, on=['customer_no'], how='inner')"
   ]
  },
  {
   "cell_type": "markdown",
   "metadata": {},
   "source": [
    "#### 11. `count_enquiry_recency_90` \n",
    "number of enquiry made in past 90 days  \n",
    "TODO: when is considered as past 90?"
   ]
  },
  {
   "cell_type": "code",
   "execution_count": 20,
   "metadata": {
    "ExecuteTime": {
     "end_time": "2018-05-14T08:22:57.685385Z",
     "start_time": "2018-05-14T08:22:45.466192Z"
    }
   },
   "outputs": [],
   "source": [
    "df_temp = df_enquiry.groupby(['customer_no']).apply(lambda group: (group['enquiry_dt']>datetime(2015,9,30)).sum()).reset_index(name='count_enquiry_recency_90')\n",
    "df_engineered = pd.merge(df_engineered, df_temp, on=['customer_no'], how='inner')"
   ]
  },
  {
   "cell_type": "code",
   "execution_count": 110,
   "metadata": {
    "ExecuteTime": {
     "end_time": "2018-05-14T11:02:47.191473Z",
     "start_time": "2018-05-14T11:02:42.654699Z"
    }
   },
   "outputs": [],
   "source": [
    "df_temp = df_enquiry_test.groupby(['customer_no']).apply(lambda group: (group['enquiry_dt']>datetime(2015,9,30)).sum()).reset_index(name='count_enquiry_recency_90')\n",
    "df_engineered_test = pd.merge(df_engineered_test, df_temp, on=['customer_no'], how='inner')"
   ]
  },
  {
   "cell_type": "markdown",
   "metadata": {},
   "source": [
    "#### 12. `perc_unsecured_others`\n",
    "ratio of secured loan type enquiry purpose to total enquiry purpose made"
   ]
  },
  {
   "cell_type": "code",
   "execution_count": 21,
   "metadata": {
    "ExecuteTime": {
     "end_time": "2018-05-14T08:23:12.985949Z",
     "start_time": "2018-05-14T08:22:57.688283Z"
    }
   },
   "outputs": [],
   "source": [
    "secure_loan_type_list = [1,2,3,4,7,11,13,15,17,31,32,33,34,42,51,52,53,54,55,56,57,58,59,60]\n",
    "\n",
    "df_temp = df_enquiry.groupby(['customer_no']) \\\n",
    "    .apply(lambda group: group['enq_purpose'].isin(secure_loan_type_list).astype(int).sum()/group['enq_purpose'].count()) \\\n",
    "    .reset_index(name='perc_unsecured_others')\n",
    "df_engineered = pd.merge(df_engineered, df_temp, on=['customer_no'], how='left')"
   ]
  },
  {
   "cell_type": "code",
   "execution_count": 134,
   "metadata": {
    "ExecuteTime": {
     "end_time": "2018-05-14T11:36:02.289886Z",
     "start_time": "2018-05-14T11:35:55.451655Z"
    }
   },
   "outputs": [],
   "source": [
    "df_temp = df_enquiry_test.groupby(['customer_no']) \\\n",
    "    .apply(lambda group: group['enq_purpose'].isin(secure_loan_type_list).astype(int).sum()/group['enq_purpose'].count()) \\\n",
    "    .reset_index(name='perc_unsecured_others')\n",
    "df_engineered_test = pd.merge(df_engineered_test, df_temp, on=['customer_no'], how='left')"
   ]
  },
  {
   "cell_type": "code",
   "execution_count": 150,
   "metadata": {
    "ExecuteTime": {
     "end_time": "2018-05-14T11:40:14.782428Z",
     "start_time": "2018-05-14T11:40:14.776611Z"
    }
   },
   "outputs": [],
   "source": [
    "del(df_engineered_test['perc_unsecured_others_y'])"
   ]
  },
  {
   "cell_type": "code",
   "execution_count": 130,
   "metadata": {
    "ExecuteTime": {
     "end_time": "2018-05-14T11:35:34.074650Z",
     "start_time": "2018-05-14T11:35:34.038753Z"
    }
   },
   "outputs": [
    {
     "name": "stdout",
     "output_type": "stream",
     "text": [
      "<class 'pandas.core.frame.DataFrame'>\n",
      "Int64Index: 23787 entries, 0 to 23786\n",
      "Data columns (total 14 columns):\n",
      "customer_no                            23787 non-null int64\n",
      "Bad_label                              23787 non-null int64\n",
      "payment_history_avg_dpd_0_29_bucket    23787 non-null float64\n",
      "total_diff_lastpaymt_opened_dt         23787 non-null float64\n",
      "min_months_last_30_plus                23787 non-null int64\n",
      "utilisation_trend                      23787 non-null float64\n",
      "count_enquiry_recency_365              23787 non-null int64\n",
      "ratio_currbalance_creditlimit          23787 non-null float64\n",
      "mean_diff_lastpaymt_opened_dt          23787 non-null float64\n",
      "mean_diff_open_enquiry_dt              23787 non-null float64\n",
      "payment_history_mean_length            23787 non-null float64\n",
      "max_freq_enquiry                       23787 non-null float64\n",
      "count_enquiry_recency_90               23787 non-null int64\n",
      "perc_unsecured_others                  23787 non-null float64\n",
      "dtypes: float64(9), int64(5)\n",
      "memory usage: 2.7 MB\n"
     ]
    }
   ],
   "source": [
    "# get information about data, make sure they are in good data type(numeric) and shape(no missing values)\n",
    "df_engineered.info()"
   ]
  },
  {
   "cell_type": "code",
   "execution_count": 135,
   "metadata": {
    "ExecuteTime": {
     "end_time": "2018-05-14T11:36:09.660212Z",
     "start_time": "2018-05-14T11:36:09.642244Z"
    }
   },
   "outputs": [
    {
     "data": {
      "text/plain": [
       "customer_no                            0\n",
       "Bad_label                              0\n",
       "payment_history_avg_dpd_0_29_bucket    0\n",
       "total_diff_lastpaymt_opened_dt         0\n",
       "min_months_last_30_plus                0\n",
       "utilisation_trend                      0\n",
       "count_enquiry_recency_365              0\n",
       "ratio_currbalance_creditlimit          0\n",
       "mean_diff_lastpaymt_opened_dt          0\n",
       "mean_diff_open_enquiry_dt              0\n",
       "payment_history_mean_length            0\n",
       "max_freq_enquiry                       0\n",
       "count_enquiry_recency_90               0\n",
       "perc_unsecured_others                  0\n",
       "dtype: int64"
      ]
     },
     "execution_count": 135,
     "metadata": {},
     "output_type": "execute_result"
    }
   ],
   "source": [
    "df_engineered.isna().sum()"
   ]
  },
  {
   "cell_type": "code",
   "execution_count": 151,
   "metadata": {
    "ExecuteTime": {
     "end_time": "2018-05-14T11:40:30.890265Z",
     "start_time": "2018-05-14T11:40:30.874915Z"
    }
   },
   "outputs": [
    {
     "data": {
      "text/plain": [
       "customer_no                            0\n",
       "Bad_label                              0\n",
       "total_diff_lastpaymt_opened_dt         0\n",
       "min_months_last_30_plus                0\n",
       "utilisation_trend                      0\n",
       "count_enquiry_recency_365              0\n",
       "ratio_currbalance_creditlimit          0\n",
       "mean_diff_lastpaymt_opened_dt          0\n",
       "mean_diff_open_enquiry_dt              0\n",
       "payment_history_mean_length            0\n",
       "max_freq_enquiry                       0\n",
       "count_enquiry_recency_90               0\n",
       "perc_unsecured_others                  0\n",
       "payment_history_avg_dpd_0_29_bucket    0\n",
       "dtype: int64"
      ]
     },
     "execution_count": 151,
     "metadata": {},
     "output_type": "execute_result"
    }
   ],
   "source": [
    "df_engineered_test.isna().sum()"
   ]
  },
  {
   "cell_type": "code",
   "execution_count": 152,
   "metadata": {
    "ExecuteTime": {
     "end_time": "2018-05-14T11:40:34.304304Z",
     "start_time": "2018-05-14T11:40:34.298384Z"
    }
   },
   "outputs": [
    {
     "name": "stdout",
     "output_type": "stream",
     "text": [
      "14\n",
      "14\n"
     ]
    }
   ],
   "source": [
    "print(len(df_engineered_test.columns))\n",
    "print(len(df_engineered.columns))"
   ]
  },
  {
   "cell_type": "markdown",
   "metadata": {},
   "source": [
    "## EDA"
   ]
  },
  {
   "cell_type": "code",
   "execution_count": 113,
   "metadata": {
    "ExecuteTime": {
     "end_time": "2018-05-14T11:29:47.041456Z",
     "start_time": "2018-05-14T11:29:47.030776Z"
    }
   },
   "outputs": [],
   "source": [
    "features = [f for f in df_engineered.columns if f not in ['customer_no']]"
   ]
  },
  {
   "cell_type": "code",
   "execution_count": 115,
   "metadata": {
    "ExecuteTime": {
     "end_time": "2018-05-14T11:29:52.792759Z",
     "start_time": "2018-05-14T11:29:52.731645Z"
    }
   },
   "outputs": [
    {
     "data": {
      "text/html": [
       "<div>\n",
       "<style scoped>\n",
       "    .dataframe tbody tr th:only-of-type {\n",
       "        vertical-align: middle;\n",
       "    }\n",
       "\n",
       "    .dataframe tbody tr th {\n",
       "        vertical-align: top;\n",
       "    }\n",
       "\n",
       "    .dataframe thead th {\n",
       "        text-align: right;\n",
       "    }\n",
       "</style>\n",
       "<table border=\"1\" class=\"dataframe\">\n",
       "  <thead>\n",
       "    <tr style=\"text-align: right;\">\n",
       "      <th></th>\n",
       "      <th>Bad_label</th>\n",
       "      <th>payment_history_avg_dpd_0_29_bucket</th>\n",
       "      <th>total_diff_lastpaymt_opened_dt</th>\n",
       "      <th>min_months_last_30_plus</th>\n",
       "      <th>utilisation_trend</th>\n",
       "      <th>count_enquiry_recency_365</th>\n",
       "      <th>ratio_currbalance_creditlimit</th>\n",
       "      <th>mean_diff_lastpaymt_opened_dt</th>\n",
       "      <th>mean_diff_open_enquiry_dt</th>\n",
       "      <th>payment_history_mean_length</th>\n",
       "      <th>max_freq_enquiry</th>\n",
       "      <th>count_enquiry_recency_90</th>\n",
       "      <th>perc_unsecured_others</th>\n",
       "    </tr>\n",
       "  </thead>\n",
       "  <tbody>\n",
       "    <tr>\n",
       "      <th>Bad_label</th>\n",
       "      <td>1.000000</td>\n",
       "      <td>-0.032228</td>\n",
       "      <td>-0.046332</td>\n",
       "      <td>-0.009435</td>\n",
       "      <td>0.007024</td>\n",
       "      <td>0.068283</td>\n",
       "      <td>0.005600</td>\n",
       "      <td>-0.048424</td>\n",
       "      <td>0.053414</td>\n",
       "      <td>-0.050415</td>\n",
       "      <td>-0.018281</td>\n",
       "      <td>0.022126</td>\n",
       "      <td>0.025684</td>\n",
       "    </tr>\n",
       "    <tr>\n",
       "      <th>payment_history_avg_dpd_0_29_bucket</th>\n",
       "      <td>-0.032228</td>\n",
       "      <td>1.000000</td>\n",
       "      <td>-0.121434</td>\n",
       "      <td>0.100013</td>\n",
       "      <td>-0.052054</td>\n",
       "      <td>-0.018587</td>\n",
       "      <td>-0.022185</td>\n",
       "      <td>-0.235162</td>\n",
       "      <td>0.276356</td>\n",
       "      <td>-0.298597</td>\n",
       "      <td>0.005931</td>\n",
       "      <td>0.008965</td>\n",
       "      <td>-0.038208</td>\n",
       "    </tr>\n",
       "    <tr>\n",
       "      <th>total_diff_lastpaymt_opened_dt</th>\n",
       "      <td>-0.046332</td>\n",
       "      <td>-0.121434</td>\n",
       "      <td>1.000000</td>\n",
       "      <td>-0.228132</td>\n",
       "      <td>0.016697</td>\n",
       "      <td>-0.010511</td>\n",
       "      <td>-0.012341</td>\n",
       "      <td>0.635055</td>\n",
       "      <td>-0.607283</td>\n",
       "      <td>0.381718</td>\n",
       "      <td>-0.009468</td>\n",
       "      <td>-0.024524</td>\n",
       "      <td>0.081242</td>\n",
       "    </tr>\n",
       "    <tr>\n",
       "      <th>min_months_last_30_plus</th>\n",
       "      <td>-0.009435</td>\n",
       "      <td>0.100013</td>\n",
       "      <td>-0.228132</td>\n",
       "      <td>1.000000</td>\n",
       "      <td>-0.017719</td>\n",
       "      <td>-0.183378</td>\n",
       "      <td>-0.006349</td>\n",
       "      <td>0.072899</td>\n",
       "      <td>0.102606</td>\n",
       "      <td>0.411396</td>\n",
       "      <td>0.004572</td>\n",
       "      <td>-0.042164</td>\n",
       "      <td>-0.057816</td>\n",
       "    </tr>\n",
       "    <tr>\n",
       "      <th>utilisation_trend</th>\n",
       "      <td>0.007024</td>\n",
       "      <td>-0.052054</td>\n",
       "      <td>0.016697</td>\n",
       "      <td>-0.017719</td>\n",
       "      <td>1.000000</td>\n",
       "      <td>0.015765</td>\n",
       "      <td>0.023120</td>\n",
       "      <td>0.013727</td>\n",
       "      <td>-0.011851</td>\n",
       "      <td>0.005427</td>\n",
       "      <td>-0.001221</td>\n",
       "      <td>-0.003440</td>\n",
       "      <td>0.000047</td>\n",
       "    </tr>\n",
       "    <tr>\n",
       "      <th>count_enquiry_recency_365</th>\n",
       "      <td>0.068283</td>\n",
       "      <td>-0.018587</td>\n",
       "      <td>-0.010511</td>\n",
       "      <td>-0.183378</td>\n",
       "      <td>0.015765</td>\n",
       "      <td>1.000000</td>\n",
       "      <td>0.033313</td>\n",
       "      <td>-0.205428</td>\n",
       "      <td>0.283506</td>\n",
       "      <td>-0.237057</td>\n",
       "      <td>-0.036326</td>\n",
       "      <td>0.371108</td>\n",
       "      <td>-0.005192</td>\n",
       "    </tr>\n",
       "    <tr>\n",
       "      <th>ratio_currbalance_creditlimit</th>\n",
       "      <td>0.005600</td>\n",
       "      <td>-0.022185</td>\n",
       "      <td>-0.012341</td>\n",
       "      <td>-0.006349</td>\n",
       "      <td>0.023120</td>\n",
       "      <td>0.033313</td>\n",
       "      <td>1.000000</td>\n",
       "      <td>-0.003598</td>\n",
       "      <td>0.006239</td>\n",
       "      <td>-0.008470</td>\n",
       "      <td>-0.031783</td>\n",
       "      <td>0.013597</td>\n",
       "      <td>0.138675</td>\n",
       "    </tr>\n",
       "    <tr>\n",
       "      <th>mean_diff_lastpaymt_opened_dt</th>\n",
       "      <td>-0.048424</td>\n",
       "      <td>-0.235162</td>\n",
       "      <td>0.635055</td>\n",
       "      <td>0.072899</td>\n",
       "      <td>0.013727</td>\n",
       "      <td>-0.205428</td>\n",
       "      <td>-0.003598</td>\n",
       "      <td>1.000000</td>\n",
       "      <td>-0.670006</td>\n",
       "      <td>0.679947</td>\n",
       "      <td>0.019877</td>\n",
       "      <td>-0.069624</td>\n",
       "      <td>0.070733</td>\n",
       "    </tr>\n",
       "    <tr>\n",
       "      <th>mean_diff_open_enquiry_dt</th>\n",
       "      <td>0.053414</td>\n",
       "      <td>0.276356</td>\n",
       "      <td>-0.607283</td>\n",
       "      <td>0.102606</td>\n",
       "      <td>-0.011851</td>\n",
       "      <td>0.283506</td>\n",
       "      <td>0.006239</td>\n",
       "      <td>-0.670006</td>\n",
       "      <td>1.000000</td>\n",
       "      <td>-0.577205</td>\n",
       "      <td>-0.001006</td>\n",
       "      <td>0.110989</td>\n",
       "      <td>-0.111909</td>\n",
       "    </tr>\n",
       "    <tr>\n",
       "      <th>payment_history_mean_length</th>\n",
       "      <td>-0.050415</td>\n",
       "      <td>-0.298597</td>\n",
       "      <td>0.381718</td>\n",
       "      <td>0.411396</td>\n",
       "      <td>0.005427</td>\n",
       "      <td>-0.237057</td>\n",
       "      <td>-0.008470</td>\n",
       "      <td>0.679947</td>\n",
       "      <td>-0.577205</td>\n",
       "      <td>1.000000</td>\n",
       "      <td>0.004936</td>\n",
       "      <td>-0.074342</td>\n",
       "      <td>0.059718</td>\n",
       "    </tr>\n",
       "    <tr>\n",
       "      <th>max_freq_enquiry</th>\n",
       "      <td>-0.018281</td>\n",
       "      <td>0.005931</td>\n",
       "      <td>-0.009468</td>\n",
       "      <td>0.004572</td>\n",
       "      <td>-0.001221</td>\n",
       "      <td>-0.036326</td>\n",
       "      <td>-0.031783</td>\n",
       "      <td>0.019877</td>\n",
       "      <td>-0.001006</td>\n",
       "      <td>0.004936</td>\n",
       "      <td>1.000000</td>\n",
       "      <td>-0.005937</td>\n",
       "      <td>-0.113631</td>\n",
       "    </tr>\n",
       "    <tr>\n",
       "      <th>count_enquiry_recency_90</th>\n",
       "      <td>0.022126</td>\n",
       "      <td>0.008965</td>\n",
       "      <td>-0.024524</td>\n",
       "      <td>-0.042164</td>\n",
       "      <td>-0.003440</td>\n",
       "      <td>0.371108</td>\n",
       "      <td>0.013597</td>\n",
       "      <td>-0.069624</td>\n",
       "      <td>0.110989</td>\n",
       "      <td>-0.074342</td>\n",
       "      <td>-0.005937</td>\n",
       "      <td>1.000000</td>\n",
       "      <td>0.010477</td>\n",
       "    </tr>\n",
       "    <tr>\n",
       "      <th>perc_unsecured_others</th>\n",
       "      <td>0.025684</td>\n",
       "      <td>-0.038208</td>\n",
       "      <td>0.081242</td>\n",
       "      <td>-0.057816</td>\n",
       "      <td>0.000047</td>\n",
       "      <td>-0.005192</td>\n",
       "      <td>0.138675</td>\n",
       "      <td>0.070733</td>\n",
       "      <td>-0.111909</td>\n",
       "      <td>0.059718</td>\n",
       "      <td>-0.113631</td>\n",
       "      <td>0.010477</td>\n",
       "      <td>1.000000</td>\n",
       "    </tr>\n",
       "  </tbody>\n",
       "</table>\n",
       "</div>"
      ],
      "text/plain": [
       "                                     Bad_label  \\\n",
       "Bad_label                             1.000000   \n",
       "payment_history_avg_dpd_0_29_bucket  -0.032228   \n",
       "total_diff_lastpaymt_opened_dt       -0.046332   \n",
       "min_months_last_30_plus              -0.009435   \n",
       "utilisation_trend                     0.007024   \n",
       "count_enquiry_recency_365             0.068283   \n",
       "ratio_currbalance_creditlimit         0.005600   \n",
       "mean_diff_lastpaymt_opened_dt        -0.048424   \n",
       "mean_diff_open_enquiry_dt             0.053414   \n",
       "payment_history_mean_length          -0.050415   \n",
       "max_freq_enquiry                     -0.018281   \n",
       "count_enquiry_recency_90              0.022126   \n",
       "perc_unsecured_others                 0.025684   \n",
       "\n",
       "                                     payment_history_avg_dpd_0_29_bucket  \\\n",
       "Bad_label                                                      -0.032228   \n",
       "payment_history_avg_dpd_0_29_bucket                             1.000000   \n",
       "total_diff_lastpaymt_opened_dt                                 -0.121434   \n",
       "min_months_last_30_plus                                         0.100013   \n",
       "utilisation_trend                                              -0.052054   \n",
       "count_enquiry_recency_365                                      -0.018587   \n",
       "ratio_currbalance_creditlimit                                  -0.022185   \n",
       "mean_diff_lastpaymt_opened_dt                                  -0.235162   \n",
       "mean_diff_open_enquiry_dt                                       0.276356   \n",
       "payment_history_mean_length                                    -0.298597   \n",
       "max_freq_enquiry                                                0.005931   \n",
       "count_enquiry_recency_90                                        0.008965   \n",
       "perc_unsecured_others                                          -0.038208   \n",
       "\n",
       "                                     total_diff_lastpaymt_opened_dt  \\\n",
       "Bad_label                                                 -0.046332   \n",
       "payment_history_avg_dpd_0_29_bucket                       -0.121434   \n",
       "total_diff_lastpaymt_opened_dt                             1.000000   \n",
       "min_months_last_30_plus                                   -0.228132   \n",
       "utilisation_trend                                          0.016697   \n",
       "count_enquiry_recency_365                                 -0.010511   \n",
       "ratio_currbalance_creditlimit                             -0.012341   \n",
       "mean_diff_lastpaymt_opened_dt                              0.635055   \n",
       "mean_diff_open_enquiry_dt                                 -0.607283   \n",
       "payment_history_mean_length                                0.381718   \n",
       "max_freq_enquiry                                          -0.009468   \n",
       "count_enquiry_recency_90                                  -0.024524   \n",
       "perc_unsecured_others                                      0.081242   \n",
       "\n",
       "                                     min_months_last_30_plus  \\\n",
       "Bad_label                                          -0.009435   \n",
       "payment_history_avg_dpd_0_29_bucket                 0.100013   \n",
       "total_diff_lastpaymt_opened_dt                     -0.228132   \n",
       "min_months_last_30_plus                             1.000000   \n",
       "utilisation_trend                                  -0.017719   \n",
       "count_enquiry_recency_365                          -0.183378   \n",
       "ratio_currbalance_creditlimit                      -0.006349   \n",
       "mean_diff_lastpaymt_opened_dt                       0.072899   \n",
       "mean_diff_open_enquiry_dt                           0.102606   \n",
       "payment_history_mean_length                         0.411396   \n",
       "max_freq_enquiry                                    0.004572   \n",
       "count_enquiry_recency_90                           -0.042164   \n",
       "perc_unsecured_others                              -0.057816   \n",
       "\n",
       "                                     utilisation_trend  \\\n",
       "Bad_label                                     0.007024   \n",
       "payment_history_avg_dpd_0_29_bucket          -0.052054   \n",
       "total_diff_lastpaymt_opened_dt                0.016697   \n",
       "min_months_last_30_plus                      -0.017719   \n",
       "utilisation_trend                             1.000000   \n",
       "count_enquiry_recency_365                     0.015765   \n",
       "ratio_currbalance_creditlimit                 0.023120   \n",
       "mean_diff_lastpaymt_opened_dt                 0.013727   \n",
       "mean_diff_open_enquiry_dt                    -0.011851   \n",
       "payment_history_mean_length                   0.005427   \n",
       "max_freq_enquiry                             -0.001221   \n",
       "count_enquiry_recency_90                     -0.003440   \n",
       "perc_unsecured_others                         0.000047   \n",
       "\n",
       "                                     count_enquiry_recency_365  \\\n",
       "Bad_label                                             0.068283   \n",
       "payment_history_avg_dpd_0_29_bucket                  -0.018587   \n",
       "total_diff_lastpaymt_opened_dt                       -0.010511   \n",
       "min_months_last_30_plus                              -0.183378   \n",
       "utilisation_trend                                     0.015765   \n",
       "count_enquiry_recency_365                             1.000000   \n",
       "ratio_currbalance_creditlimit                         0.033313   \n",
       "mean_diff_lastpaymt_opened_dt                        -0.205428   \n",
       "mean_diff_open_enquiry_dt                             0.283506   \n",
       "payment_history_mean_length                          -0.237057   \n",
       "max_freq_enquiry                                     -0.036326   \n",
       "count_enquiry_recency_90                              0.371108   \n",
       "perc_unsecured_others                                -0.005192   \n",
       "\n",
       "                                     ratio_currbalance_creditlimit  \\\n",
       "Bad_label                                                 0.005600   \n",
       "payment_history_avg_dpd_0_29_bucket                      -0.022185   \n",
       "total_diff_lastpaymt_opened_dt                           -0.012341   \n",
       "min_months_last_30_plus                                  -0.006349   \n",
       "utilisation_trend                                         0.023120   \n",
       "count_enquiry_recency_365                                 0.033313   \n",
       "ratio_currbalance_creditlimit                             1.000000   \n",
       "mean_diff_lastpaymt_opened_dt                            -0.003598   \n",
       "mean_diff_open_enquiry_dt                                 0.006239   \n",
       "payment_history_mean_length                              -0.008470   \n",
       "max_freq_enquiry                                         -0.031783   \n",
       "count_enquiry_recency_90                                  0.013597   \n",
       "perc_unsecured_others                                     0.138675   \n",
       "\n",
       "                                     mean_diff_lastpaymt_opened_dt  \\\n",
       "Bad_label                                                -0.048424   \n",
       "payment_history_avg_dpd_0_29_bucket                      -0.235162   \n",
       "total_diff_lastpaymt_opened_dt                            0.635055   \n",
       "min_months_last_30_plus                                   0.072899   \n",
       "utilisation_trend                                         0.013727   \n",
       "count_enquiry_recency_365                                -0.205428   \n",
       "ratio_currbalance_creditlimit                            -0.003598   \n",
       "mean_diff_lastpaymt_opened_dt                             1.000000   \n",
       "mean_diff_open_enquiry_dt                                -0.670006   \n",
       "payment_history_mean_length                               0.679947   \n",
       "max_freq_enquiry                                          0.019877   \n",
       "count_enquiry_recency_90                                 -0.069624   \n",
       "perc_unsecured_others                                     0.070733   \n",
       "\n",
       "                                     mean_diff_open_enquiry_dt  \\\n",
       "Bad_label                                             0.053414   \n",
       "payment_history_avg_dpd_0_29_bucket                   0.276356   \n",
       "total_diff_lastpaymt_opened_dt                       -0.607283   \n",
       "min_months_last_30_plus                               0.102606   \n",
       "utilisation_trend                                    -0.011851   \n",
       "count_enquiry_recency_365                             0.283506   \n",
       "ratio_currbalance_creditlimit                         0.006239   \n",
       "mean_diff_lastpaymt_opened_dt                        -0.670006   \n",
       "mean_diff_open_enquiry_dt                             1.000000   \n",
       "payment_history_mean_length                          -0.577205   \n",
       "max_freq_enquiry                                     -0.001006   \n",
       "count_enquiry_recency_90                              0.110989   \n",
       "perc_unsecured_others                                -0.111909   \n",
       "\n",
       "                                     payment_history_mean_length  \\\n",
       "Bad_label                                              -0.050415   \n",
       "payment_history_avg_dpd_0_29_bucket                    -0.298597   \n",
       "total_diff_lastpaymt_opened_dt                          0.381718   \n",
       "min_months_last_30_plus                                 0.411396   \n",
       "utilisation_trend                                       0.005427   \n",
       "count_enquiry_recency_365                              -0.237057   \n",
       "ratio_currbalance_creditlimit                          -0.008470   \n",
       "mean_diff_lastpaymt_opened_dt                           0.679947   \n",
       "mean_diff_open_enquiry_dt                              -0.577205   \n",
       "payment_history_mean_length                             1.000000   \n",
       "max_freq_enquiry                                        0.004936   \n",
       "count_enquiry_recency_90                               -0.074342   \n",
       "perc_unsecured_others                                   0.059718   \n",
       "\n",
       "                                     max_freq_enquiry  \\\n",
       "Bad_label                                   -0.018281   \n",
       "payment_history_avg_dpd_0_29_bucket          0.005931   \n",
       "total_diff_lastpaymt_opened_dt              -0.009468   \n",
       "min_months_last_30_plus                      0.004572   \n",
       "utilisation_trend                           -0.001221   \n",
       "count_enquiry_recency_365                   -0.036326   \n",
       "ratio_currbalance_creditlimit               -0.031783   \n",
       "mean_diff_lastpaymt_opened_dt                0.019877   \n",
       "mean_diff_open_enquiry_dt                   -0.001006   \n",
       "payment_history_mean_length                  0.004936   \n",
       "max_freq_enquiry                             1.000000   \n",
       "count_enquiry_recency_90                    -0.005937   \n",
       "perc_unsecured_others                       -0.113631   \n",
       "\n",
       "                                     count_enquiry_recency_90  \\\n",
       "Bad_label                                            0.022126   \n",
       "payment_history_avg_dpd_0_29_bucket                  0.008965   \n",
       "total_diff_lastpaymt_opened_dt                      -0.024524   \n",
       "min_months_last_30_plus                             -0.042164   \n",
       "utilisation_trend                                   -0.003440   \n",
       "count_enquiry_recency_365                            0.371108   \n",
       "ratio_currbalance_creditlimit                        0.013597   \n",
       "mean_diff_lastpaymt_opened_dt                       -0.069624   \n",
       "mean_diff_open_enquiry_dt                            0.110989   \n",
       "payment_history_mean_length                         -0.074342   \n",
       "max_freq_enquiry                                    -0.005937   \n",
       "count_enquiry_recency_90                             1.000000   \n",
       "perc_unsecured_others                                0.010477   \n",
       "\n",
       "                                     perc_unsecured_others  \n",
       "Bad_label                                         0.025684  \n",
       "payment_history_avg_dpd_0_29_bucket              -0.038208  \n",
       "total_diff_lastpaymt_opened_dt                    0.081242  \n",
       "min_months_last_30_plus                          -0.057816  \n",
       "utilisation_trend                                 0.000047  \n",
       "count_enquiry_recency_365                        -0.005192  \n",
       "ratio_currbalance_creditlimit                     0.138675  \n",
       "mean_diff_lastpaymt_opened_dt                     0.070733  \n",
       "mean_diff_open_enquiry_dt                        -0.111909  \n",
       "payment_history_mean_length                       0.059718  \n",
       "max_freq_enquiry                                 -0.113631  \n",
       "count_enquiry_recency_90                          0.010477  \n",
       "perc_unsecured_others                             1.000000  "
      ]
     },
     "execution_count": 115,
     "metadata": {},
     "output_type": "execute_result"
    }
   ],
   "source": [
    "corr = df_engineered[features].corr()\n",
    "corr"
   ]
  },
  {
   "cell_type": "code",
   "execution_count": 116,
   "metadata": {
    "ExecuteTime": {
     "end_time": "2018-05-14T11:30:31.725466Z",
     "start_time": "2018-05-14T11:30:31.678973Z"
    }
   },
   "outputs": [
    {
     "name": "stderr",
     "output_type": "stream",
     "text": [
      "/Users/CrazyGear/anaconda2/envs/py36/lib/python3.6/site-packages/numpy/core/fromnumeric.py:52: FutureWarning: 'argmax' is deprecated. Use 'idxmax' instead. The behavior of 'argmax' will be corrected to return the positional maximum in the future. Use 'series.values.argmax' to get the position of the maximum now.\n",
      "  return getattr(obj, method)(*args, **kwds)\n"
     ]
    },
    {
     "data": {
      "text/plain": [
       "'count_enquiry_recency_365'"
      ]
     },
     "execution_count": 116,
     "metadata": {},
     "output_type": "execute_result"
    }
   ],
   "source": [
    "np.argmax(np.abs(corr['Bad_label'][1:]))"
   ]
  },
  {
   "cell_type": "code",
   "execution_count": 117,
   "metadata": {
    "ExecuteTime": {
     "end_time": "2018-05-14T11:30:38.428962Z",
     "start_time": "2018-05-14T11:30:36.350933Z"
    }
   },
   "outputs": [
    {
     "data": {
      "text/plain": [
       "<matplotlib.axes._subplots.AxesSubplot at 0x1a1bdba518>"
      ]
     },
     "execution_count": 117,
     "metadata": {},
     "output_type": "execute_result"
    },
    {
     "data": {
      "image/png": "[encoded data removed]",
      "text/plain": [
       "<matplotlib.figure.Figure at 0x1a3024a7b8>"
      ]
     },
     "metadata": {},
     "output_type": "display_data"
    }
   ],
   "source": [
    "f, ax = plt.subplots(figsize=(11, 9))\n",
    "\n",
    "# Generate a custom diverging colormap\n",
    "cmap = sns.diverging_palette(220, 10, as_cmap=True)\n",
    "\n",
    "# Draw the heatmap with the mask and correct aspect ratio\n",
    "sns.heatmap(corr, cmap=cmap, vmax=.3, center=0,\n",
    "            square=True, linewidths=.5, cbar_kws={\"shrink\": .5})"
   ]
  },
  {
   "cell_type": "code",
   "execution_count": null,
   "metadata": {
    "ExecuteTime": {
     "end_time": "2018-05-13T14:13:15.039798Z",
     "start_time": "2018-05-13T14:13:15.033940Z"
    }
   },
   "outputs": [],
   "source": [
    "df_engineered.columns"
   ]
  },
  {
   "cell_type": "code",
   "execution_count": 263,
   "metadata": {
    "ExecuteTime": {
     "end_time": "2018-05-14T13:23:43.210880Z",
     "start_time": "2018-05-14T13:23:35.039033Z"
    },
    "scrolled": true
   },
   "outputs": [
    {
     "data": {
      "text/plain": [
       "array([[<matplotlib.axes._subplots.AxesSubplot object at 0x1a3096c9b0>,\n",
       "        <matplotlib.axes._subplots.AxesSubplot object at 0x1a30d0cb70>,\n",
       "        <matplotlib.axes._subplots.AxesSubplot object at 0x1a30d43b70>,\n",
       "        <matplotlib.axes._subplots.AxesSubplot object at 0x1a30dcdb70>],\n",
       "       [<matplotlib.axes._subplots.AxesSubplot object at 0x1a30de5358>,\n",
       "        <matplotlib.axes._subplots.AxesSubplot object at 0x1a30de5ef0>,\n",
       "        <matplotlib.axes._subplots.AxesSubplot object at 0x1a315f9b70>,\n",
       "        <matplotlib.axes._subplots.AxesSubplot object at 0x1a323fbbe0>],\n",
       "       [<matplotlib.axes._subplots.AxesSubplot object at 0x1a32431b00>,\n",
       "        <matplotlib.axes._subplots.AxesSubplot object at 0x1a3e3c3320>,\n",
       "        <matplotlib.axes._subplots.AxesSubplot object at 0x1a3e3f74e0>,\n",
       "        <matplotlib.axes._subplots.AxesSubplot object at 0x1a3e42c4e0>],\n",
       "       [<matplotlib.axes._subplots.AxesSubplot object at 0x1a3e462550>,\n",
       "        <matplotlib.axes._subplots.AxesSubplot object at 0x1a3e4758d0>,\n",
       "        <matplotlib.axes._subplots.AxesSubplot object at 0x1a3e4b7da0>,\n",
       "        <matplotlib.axes._subplots.AxesSubplot object at 0x1a3e4f92b0>]],\n",
       "      dtype=object)"
      ]
     },
     "execution_count": 263,
     "metadata": {},
     "output_type": "execute_result"
    },
    {
     "data": {
      "image/png": "[encoded data removed]",
      "text/plain": [
       "<matplotlib.figure.Figure at 0x1a30cbde80>"
      ]
     },
     "metadata": {},
     "output_type": "display_data"
    }
   ],
   "source": [
    "from pandas.plotting import scatter_matrix\n",
    "attributes = ['Bad_label', 'mean_diff_open_enquiry_dt',\n",
    "       'payment_history_mean_length', 'count_enquiry_recency_365']\n",
    "scatter_matrix(df_engineered[attributes], figsize=(12, 8))"
   ]
  },
  {
   "cell_type": "markdown",
   "metadata": {},
   "source": [
    "**Histogram**"
   ]
  },
  {
   "cell_type": "code",
   "execution_count": null,
   "metadata": {},
   "outputs": [],
   "source": []
  },
  {
   "cell_type": "code",
   "execution_count": 237,
   "metadata": {
    "ExecuteTime": {
     "end_time": "2018-05-14T12:58:47.844162Z",
     "start_time": "2018-05-14T12:58:47.824275Z"
    }
   },
   "outputs": [],
   "source": [
    "def PlotHistogram(df,norm,variable,target='Bad_label'):\n",
    "    bins = np.arange(df[variable].min(),df[variable].max())\n",
    "    plt.figure(figsize=(15,4))\n",
    "    sns.distplot(df[df[target]==0.0][variable],\n",
    "                 norm_hist=norm,\n",
    "                 bins=bins,\n",
    "                 kde=False,\n",
    "                 color='b',\n",
    "                 #hist_kws={'alpha':.5},\n",
    "                 label='Good')\n",
    "    sns.distplot(df[df[target]==1.0][variable],\n",
    "                 norm_hist=norm,\n",
    "                 bins=bins,\n",
    "                 kde=False,\n",
    "                 color='r',\n",
    "                 label='Bad',\n",
    "                 #hist_kws={'alpha':.5}\n",
    "                )\n",
    "    #plt.xticks(range(0,24))\n",
    "#    plt.legend()\n",
    "    plt.show()"
   ]
  },
  {
   "cell_type": "code",
   "execution_count": 254,
   "metadata": {
    "ExecuteTime": {
     "end_time": "2018-05-14T13:09:24.705137Z",
     "start_time": "2018-05-14T13:09:24.321061Z"
    }
   },
   "outputs": [
    {
     "data": {
      "text/plain": [
       "(array([2086.,  392.,   54.,    8.,    0.,    0.,    0.,    0.,    0.,\n",
       "        7658.]), array([  0.99009901,  10.89108911,  20.79207921,  30.69306931,\n",
       "         40.59405941,  50.4950495 ,  60.3960396 ,  70.2970297 ,\n",
       "         80.1980198 ,  90.0990099 , 100.        ]), <a list of 10 Patch objects>)"
      ]
     },
     "execution_count": 254,
     "metadata": {},
     "output_type": "execute_result"
    },
    {
     "data": {
      "image/png": "[encoded data removed]",
      "text/plain": [
       "<matplotlib.figure.Figure at 0x119b95a90>"
      ]
     },
     "metadata": {},
     "output_type": "display_data"
    }
   ],
   "source": [
    "x = df_engineered_test['payment_history_avg_dpd_0_29_bucket']\n",
    "# plt.hist(np.log(x.as_matrix()+1))\n",
    "plt.hist(1/(1-x+1e-2))"
   ]
  },
  {
   "cell_type": "code",
   "execution_count": 262,
   "metadata": {
    "ExecuteTime": {
     "end_time": "2018-05-14T13:17:46.921823Z",
     "start_time": "2018-05-14T13:17:46.904160Z"
    }
   },
   "outputs": [
    {
     "data": {
      "text/plain": [
       "7658"
      ]
     },
     "execution_count": 262,
     "metadata": {},
     "output_type": "execute_result"
    }
   ],
   "source": [
    "(df_engineered_test['payment_history_avg_dpd_0_29_bucket']==1).sum()"
   ]
  },
  {
   "cell_type": "code",
   "execution_count": 259,
   "metadata": {
    "ExecuteTime": {
     "end_time": "2018-05-14T13:15:57.156740Z",
     "start_time": "2018-05-14T13:15:54.253746Z"
    }
   },
   "outputs": [
    {
     "data": {
      "image/png": "[encoded data removed]",
      "text/plain": [
       "<matplotlib.figure.Figure at 0x1a2415ca90>"
      ]
     },
     "metadata": {},
     "output_type": "display_data"
    },
    {
     "data": {
      "image/png": "[encoded data removed]",
      "text/plain": [
       "<matplotlib.figure.Figure at 0x1a23ee9630>"
      ]
     },
     "metadata": {},
     "output_type": "display_data"
    },
    {
     "data": {
      "image/png": "[encoded data removed]",
      "text/plain": [
       "<matplotlib.figure.Figure at 0x1a2f347ef0>"
      ]
     },
     "metadata": {},
     "output_type": "display_data"
    },
    {
     "data": {
      "image/png": "[encoded data removed]",
      "text/plain": [
       "<matplotlib.figure.Figure at 0x1a30db42b0>"
      ]
     },
     "metadata": {},
     "output_type": "display_data"
    },
    {
     "data": {
      "image/png": "[encoded data removed]",
      "text/plain": [
       "<matplotlib.figure.Figure at 0x1a23e98518>"
      ]
     },
     "metadata": {},
     "output_type": "display_data"
    },
    {
     "data": {
      "image/png": "[encoded data removed]",
      "text/plain": [
       "<matplotlib.figure.Figure at 0x1a2d425358>"
      ]
     },
     "metadata": {},
     "output_type": "display_data"
    },
    {
     "data": {
      "image/png": "[encoded data removed]",
      "text/plain": [
       "<matplotlib.figure.Figure at 0x1a2778c390>"
      ]
     },
     "metadata": {},
     "output_type": "display_data"
    },
    {
     "data": {
      "image/png": "[encoded data removed]",
      "text/plain": [
       "<matplotlib.figure.Figure at 0x1a275e80b8>"
      ]
     },
     "metadata": {},
     "output_type": "display_data"
    },
    {
     "data": {
      "image/png": "[encoded data removed]",
      "text/plain": [
       "<matplotlib.figure.Figure at 0x1a27596438>"
      ]
     },
     "metadata": {},
     "output_type": "display_data"
    },
    {
     "data": {
      "image/png": "[encoded data removed]",
      "text/plain": [
       "<matplotlib.figure.Figure at 0x1a2ce6c898>"
      ]
     },
     "metadata": {},
     "output_type": "display_data"
    },
    {
     "data": {
      "image/png": "[encoded data removed]",
      "text/plain": [
       "<matplotlib.figure.Figure at 0x1a2d731668>"
      ]
     },
     "metadata": {},
     "output_type": "display_data"
    },
    {
     "data": {
      "image/png": "[encoded data removed]",
      "text/plain": [
       "<matplotlib.figure.Figure at 0x1a2dffa9e8>"
      ]
     },
     "metadata": {},
     "output_type": "display_data"
    }
   ],
   "source": [
    "for f in features:\n",
    "    x = df_engineered_test[f]\n",
    "    plt.figure(figsize=(15,4))\n",
    "    plt.hist(x)\n",
    "    plt.title(f)"
   ]
  },
  {
   "cell_type": "code",
   "execution_count": 239,
   "metadata": {
    "ExecuteTime": {
     "end_time": "2018-05-14T12:58:49.513769Z",
     "start_time": "2018-05-14T12:58:49.333855Z"
    }
   },
   "outputs": [
    {
     "name": "stdout",
     "output_type": "stream",
     "text": [
      "Normalized histogram of Good/Bad over hour of the payment_history_avg_dpd_0_29_bucket\n"
     ]
    },
    {
     "data": {
      "image/png": "[encoded data removed]",
      "text/plain": [
       "<matplotlib.figure.Figure at 0x1a23ec8be0>"
      ]
     },
     "metadata": {},
     "output_type": "display_data"
    }
   ],
   "source": [
    "print('Normalized histogram of Good/Bad over hour of the payment_history_avg_dpd_0_29_bucket')\n",
    "PlotHistogram(df_engineered_test,True,variable='payment_history_avg_dpd_0_29_bucket')"
   ]
  },
  {
   "cell_type": "markdown",
   "metadata": {},
   "source": [
    "## Feature matrix"
   ]
  },
  {
   "cell_type": "markdown",
   "metadata": {},
   "source": [
    "#### Information Gain"
   ]
  },
  {
   "cell_type": "code",
   "execution_count": 119,
   "metadata": {
    "ExecuteTime": {
     "end_time": "2018-05-14T11:31:01.031917Z",
     "start_time": "2018-05-14T11:31:00.951381Z"
    }
   },
   "outputs": [],
   "source": [
    "def entropy(y):\n",
    "    y = np.array(y)\n",
    "    if len(y)==0: return 0\n",
    "    p = y.sum()/len(y)\n",
    "    if(p>1): raise Exception\n",
    "    if p==0 or p==1:\n",
    "        return 0\n",
    "    else:\n",
    "        return -np.log2(p)*p-np.log2(1-p)*(1-p)\n",
    "\n",
    "def condition_entropy(y,x):\n",
    "    # assume x is continuous\n",
    "    xy = np.array(sorted(zip(x,y), key=lambda x: x[0]))\n",
    "    # assume len(x)>100\n",
    "    min_entr=1\n",
    "    for i in range(1,100):\n",
    "        index = round(i/100.*len(x))\n",
    "        p = index/len(x)\n",
    "        con_entr = p*entropy(xy[0:index,1])+(1-p)*entropy(xy[index:,1])\n",
    "        min_entr = min(min_entr, con_entr)\n",
    "        # print('index={}, entropy={}'.format(index,con_entr))\n",
    "    return min_entr\n",
    "\n",
    "def information_gain(y,x):\n",
    "    return entropy(y)-condition_entropy(y,x)"
   ]
  },
  {
   "cell_type": "code",
   "execution_count": 143,
   "metadata": {
    "ExecuteTime": {
     "end_time": "2018-05-14T11:37:46.917536Z",
     "start_time": "2018-05-14T11:37:46.331872Z"
    }
   },
   "outputs": [
    {
     "name": "stdout",
     "output_type": "stream",
     "text": [
      "0.0008554874347466157\n",
      "0.0018207721107092179\n",
      "0.0001647483462495214\n",
      "0.0015997252942237805\n",
      "0.002019120336289426\n",
      "0.0020850256848824467\n",
      "0.001964769645244696\n",
      "0.001877881183726976\n",
      "0.0019444233940126843\n",
      "0.0010156240190041244\n",
      "0.0004344148371119849\n",
      "0.0006662492858886537\n"
     ]
    }
   ],
   "source": [
    "features = [f for f in df_engineered.columns if f not in ['customer_no','Bad_label']]\n",
    "for f in features:\n",
    "    print('information_gain(df_engineered['Bad_label'],df_engineered[f]))"
   ]
  },
  {
   "cell_type": "code",
   "execution_count": 264,
   "metadata": {
    "ExecuteTime": {
     "end_time": "2018-05-14T15:01:06.214681Z",
     "start_time": "2018-05-14T15:01:05.368862Z"
    }
   },
   "outputs": [
    {
     "name": "stdout",
     "output_type": "stream",
     "text": [
      "payment_history_avg_dpd_0_29_bucket:0.0008554874347466157\n",
      "total_diff_lastpaymt_opened_dt:0.0018207721107092179\n",
      "min_months_last_30_plus:0.0001647483462495214\n",
      "utilisation_trend:0.0015997252942237805\n",
      "count_enquiry_recency_365:0.002019120336289426\n",
      "ratio_currbalance_creditlimit:0.0020850256848824467\n",
      "mean_diff_lastpaymt_opened_dt:0.001964769645244696\n",
      "mean_diff_open_enquiry_dt:0.001877881183726976\n",
      "payment_history_mean_length:0.0019444233940126843\n",
      "max_freq_enquiry:0.0010156240190041244\n",
      "count_enquiry_recency_90:0.0004344148371119849\n",
      "perc_unsecured_others:0.0006662492858886537\n"
     ]
    }
   ],
   "source": [
    "features = [f for f in df_engineered.columns if f not in ['customer_no','Bad_label']]\n",
    "for f in features:\n",
    "    print('{}:{}'.format(f,information_gain(df_engineered['Bad_label'],df_engineered[f])))"
   ]
  },
  {
   "cell_type": "markdown",
   "metadata": {},
   "source": [
    "**Mutual Information**"
   ]
  },
  {
   "cell_type": "code",
   "execution_count": 122,
   "metadata": {
    "ExecuteTime": {
     "end_time": "2018-05-14T11:33:07.093689Z",
     "start_time": "2018-05-14T11:33:07.088596Z"
    }
   },
   "outputs": [],
   "source": [
    "features = [f for f in df_engineered.columns if f not in ['customer_no','Bad_label']]"
   ]
  },
  {
   "cell_type": "code",
   "execution_count": 123,
   "metadata": {
    "ExecuteTime": {
     "end_time": "2018-05-14T11:33:11.512340Z",
     "start_time": "2018-05-14T11:33:07.366558Z"
    }
   },
   "outputs": [],
   "source": [
    "from sklearn.feature_selection import mutual_info_classif\n",
    "from sklearn.feature_extraction.text import CountVectorizer\n",
    "\n",
    "X_train = df_engineered[features]\n",
    "y_train = df_engineered['Bad_label']\n",
    "\n",
    "# cv = CountVectorizer(max_df=0.95, min_df=2, max_features=10000, stop_words='english')\n",
    "# X_vec = cv.fit_transform(X_train)\n",
    "\n",
    "res = dict(zip(X_train.columns,mutual_info_classif(X_train, y_train, discrete_features='auto')))"
   ]
  },
  {
   "cell_type": "code",
   "execution_count": 124,
   "metadata": {
    "ExecuteTime": {
     "end_time": "2018-05-14T11:33:12.358169Z",
     "start_time": "2018-05-14T11:33:12.350207Z"
    }
   },
   "outputs": [
    {
     "name": "stdout",
     "output_type": "stream",
     "text": [
      "('max_freq_enquiry', 0.005895632068148915)\n",
      "('utilisation_trend', 0.0036454733143405083)\n",
      "('mean_diff_lastpaymt_opened_dt', 0.003369724258835083)\n",
      "('payment_history_avg_dpd_0_29_bucket', 0.003080038189856138)\n",
      "('payment_history_mean_length', 0.0021999541017074797)\n",
      "('mean_diff_open_enquiry_dt', 0.0017922902484768244)\n",
      "('ratio_currbalance_creditlimit', 0.0013735706528943403)\n",
      "('perc_unsecured_others', 0.00122307259993093)\n",
      "('count_enquiry_recency_90', 0.00035285216247360474)\n",
      "('total_diff_lastpaymt_opened_dt', 0.0)\n",
      "('min_months_last_30_plus', 0.0)\n",
      "('count_enquiry_recency_365', 0.0)\n"
     ]
    }
   ],
   "source": [
    "for v in sorted(res.items(), key=lambda x: x[1],reverse=True):\n",
    "    print(v)"
   ]
  },
  {
   "cell_type": "markdown",
   "metadata": {},
   "source": [
    "## Modeling"
   ]
  },
  {
   "cell_type": "code",
   "execution_count": 155,
   "metadata": {
    "ExecuteTime": {
     "end_time": "2018-05-14T11:42:30.030436Z",
     "start_time": "2018-05-14T11:42:30.026122Z"
    }
   },
   "outputs": [],
   "source": [
    "from sklearn.metrics import roc_auc_score,accuracy_score, auc,precision_recall_curve,roc_curve\n",
    "from sklearn.model_selection import cross_val_score, cross_val_predict\n",
    "from sklearn.metrics import classification_report,confusion_matrix"
   ]
  },
  {
   "cell_type": "code",
   "execution_count": 256,
   "metadata": {
    "ExecuteTime": {
     "end_time": "2018-05-14T13:14:26.679496Z",
     "start_time": "2018-05-14T13:14:26.607470Z"
    }
   },
   "outputs": [],
   "source": [
    "features = [f for f in df_engineered.columns if f not in ['customer_no','Bad_label']]\n",
    "X_train = df_engineered[features]\n",
    "y_train = df_engineered['Bad_label']\n",
    "# X_test = df_test[feature_list]"
   ]
  },
  {
   "cell_type": "code",
   "execution_count": 153,
   "metadata": {
    "ExecuteTime": {
     "end_time": "2018-05-14T11:41:03.391773Z",
     "start_time": "2018-05-14T11:41:03.383843Z"
    }
   },
   "outputs": [],
   "source": [
    "X_test = df_engineered_test[features]\n",
    "y_test = df_engineered_test['Bad_label']\n",
    "# X_test = df_test[feature_list]"
   ]
  },
  {
   "cell_type": "code",
   "execution_count": 258,
   "metadata": {
    "ExecuteTime": {
     "end_time": "2018-05-14T13:14:54.921861Z",
     "start_time": "2018-05-14T13:14:54.877963Z"
    }
   },
   "outputs": [],
   "source": [
    "from sklearn.preprocessing import StandardScaler\n",
    "scaler = StandardScaler()\n",
    "X_train = scaler.fit_transform(X_train)\n",
    "X_test = scaler.transform(X_test)"
   ]
  },
  {
   "cell_type": "code",
   "execution_count": 257,
   "metadata": {
    "ExecuteTime": {
     "end_time": "2018-05-14T13:14:29.950300Z",
     "start_time": "2018-05-14T13:14:29.802734Z"
    }
   },
   "outputs": [
    {
     "data": {
      "text/html": [
       "<div>\n",
       "<style scoped>\n",
       "    .dataframe tbody tr th:only-of-type {\n",
       "        vertical-align: middle;\n",
       "    }\n",
       "\n",
       "    .dataframe tbody tr th {\n",
       "        vertical-align: top;\n",
       "    }\n",
       "\n",
       "    .dataframe thead th {\n",
       "        text-align: right;\n",
       "    }\n",
       "</style>\n",
       "<table border=\"1\" class=\"dataframe\">\n",
       "  <thead>\n",
       "    <tr style=\"text-align: right;\">\n",
       "      <th></th>\n",
       "      <th>payment_history_avg_dpd_0_29_bucket</th>\n",
       "      <th>total_diff_lastpaymt_opened_dt</th>\n",
       "      <th>min_months_last_30_plus</th>\n",
       "      <th>utilisation_trend</th>\n",
       "      <th>count_enquiry_recency_365</th>\n",
       "      <th>ratio_currbalance_creditlimit</th>\n",
       "      <th>mean_diff_lastpaymt_opened_dt</th>\n",
       "      <th>mean_diff_open_enquiry_dt</th>\n",
       "      <th>payment_history_mean_length</th>\n",
       "      <th>max_freq_enquiry</th>\n",
       "      <th>count_enquiry_recency_90</th>\n",
       "      <th>perc_unsecured_others</th>\n",
       "    </tr>\n",
       "  </thead>\n",
       "  <tbody>\n",
       "    <tr>\n",
       "      <th>count</th>\n",
       "      <td>23787.000000</td>\n",
       "      <td>23787.000000</td>\n",
       "      <td>23787.000000</td>\n",
       "      <td>2.378700e+04</td>\n",
       "      <td>23787.000000</td>\n",
       "      <td>2.378700e+04</td>\n",
       "      <td>23787.000000</td>\n",
       "      <td>23787.000000</td>\n",
       "      <td>23787.000000</td>\n",
       "      <td>23787.000000</td>\n",
       "      <td>23787.000000</td>\n",
       "      <td>23787.000000</td>\n",
       "    </tr>\n",
       "    <tr>\n",
       "      <th>mean</th>\n",
       "      <td>0.949664</td>\n",
       "      <td>5433.714382</td>\n",
       "      <td>4.239459</td>\n",
       "      <td>3.600964e+07</td>\n",
       "      <td>3.377769</td>\n",
       "      <td>7.369637e+06</td>\n",
       "      <td>686.483447</td>\n",
       "      <td>-927.799857</td>\n",
       "      <td>16.515928</td>\n",
       "      <td>9.173246</td>\n",
       "      <td>0.213604</td>\n",
       "      <td>0.136242</td>\n",
       "    </tr>\n",
       "    <tr>\n",
       "      <th>std</th>\n",
       "      <td>0.115987</td>\n",
       "      <td>7313.906925</td>\n",
       "      <td>5.800446</td>\n",
       "      <td>1.375139e+09</td>\n",
       "      <td>3.734174</td>\n",
       "      <td>7.616176e+07</td>\n",
       "      <td>452.811469</td>\n",
       "      <td>571.892118</td>\n",
       "      <td>6.806487</td>\n",
       "      <td>3.405504</td>\n",
       "      <td>0.747025</td>\n",
       "      <td>0.170450</td>\n",
       "    </tr>\n",
       "    <tr>\n",
       "      <th>min</th>\n",
       "      <td>0.000000</td>\n",
       "      <td>0.000000</td>\n",
       "      <td>0.000000</td>\n",
       "      <td>0.000000e+00</td>\n",
       "      <td>0.000000</td>\n",
       "      <td>-1.298679e+08</td>\n",
       "      <td>0.000000</td>\n",
       "      <td>-3466.750000</td>\n",
       "      <td>1.000000</td>\n",
       "      <td>0.000000</td>\n",
       "      <td>0.000000</td>\n",
       "      <td>0.000000</td>\n",
       "    </tr>\n",
       "    <tr>\n",
       "      <th>25%</th>\n",
       "      <td>1.000000</td>\n",
       "      <td>1269.000000</td>\n",
       "      <td>1.000000</td>\n",
       "      <td>2.029865e+00</td>\n",
       "      <td>1.000000</td>\n",
       "      <td>5.300908e-01</td>\n",
       "      <td>360.535714</td>\n",
       "      <td>-1268.414286</td>\n",
       "      <td>11.333333</td>\n",
       "      <td>10.000000</td>\n",
       "      <td>0.000000</td>\n",
       "      <td>0.000000</td>\n",
       "    </tr>\n",
       "    <tr>\n",
       "      <th>50%</th>\n",
       "      <td>1.000000</td>\n",
       "      <td>2946.000000</td>\n",
       "      <td>2.000000</td>\n",
       "      <td>3.422535e+00</td>\n",
       "      <td>2.000000</td>\n",
       "      <td>1.936393e+00</td>\n",
       "      <td>577.142857</td>\n",
       "      <td>-778.166667</td>\n",
       "      <td>16.200000</td>\n",
       "      <td>10.000000</td>\n",
       "      <td>0.000000</td>\n",
       "      <td>0.076923</td>\n",
       "    </tr>\n",
       "    <tr>\n",
       "      <th>75%</th>\n",
       "      <td>1.000000</td>\n",
       "      <td>6415.000000</td>\n",
       "      <td>5.000000</td>\n",
       "      <td>5.442866e+00</td>\n",
       "      <td>5.000000</td>\n",
       "      <td>1.006655e+01</td>\n",
       "      <td>896.773810</td>\n",
       "      <td>-487.750000</td>\n",
       "      <td>21.111111</td>\n",
       "      <td>10.000000</td>\n",
       "      <td>0.000000</td>\n",
       "      <td>0.214286</td>\n",
       "    </tr>\n",
       "    <tr>\n",
       "      <th>max</th>\n",
       "      <td>1.000000</td>\n",
       "      <td>96440.000000</td>\n",
       "      <td>36.000000</td>\n",
       "      <td>1.394000e+11</td>\n",
       "      <td>60.000000</td>\n",
       "      <td>5.863297e+09</td>\n",
       "      <td>8517.000000</td>\n",
       "      <td>-10.000000</td>\n",
       "      <td>36.000000</td>\n",
       "      <td>54.000000</td>\n",
       "      <td>20.000000</td>\n",
       "      <td>1.000000</td>\n",
       "    </tr>\n",
       "  </tbody>\n",
       "</table>\n",
       "</div>"
      ],
      "text/plain": [
       "       payment_history_avg_dpd_0_29_bucket  total_diff_lastpaymt_opened_dt  \\\n",
       "count                         23787.000000                    23787.000000   \n",
       "mean                              0.949664                     5433.714382   \n",
       "std                               0.115987                     7313.906925   \n",
       "min                               0.000000                        0.000000   \n",
       "25%                               1.000000                     1269.000000   \n",
       "50%                               1.000000                     2946.000000   \n",
       "75%                               1.000000                     6415.000000   \n",
       "max                               1.000000                    96440.000000   \n",
       "\n",
       "       min_months_last_30_plus  utilisation_trend  count_enquiry_recency_365  \\\n",
       "count             23787.000000       2.378700e+04               23787.000000   \n",
       "mean                  4.239459       3.600964e+07                   3.377769   \n",
       "std                   5.800446       1.375139e+09                   3.734174   \n",
       "min                   0.000000       0.000000e+00                   0.000000   \n",
       "25%                   1.000000       2.029865e+00                   1.000000   \n",
       "50%                   2.000000       3.422535e+00                   2.000000   \n",
       "75%                   5.000000       5.442866e+00                   5.000000   \n",
       "max                  36.000000       1.394000e+11                  60.000000   \n",
       "\n",
       "       ratio_currbalance_creditlimit  mean_diff_lastpaymt_opened_dt  \\\n",
       "count                   2.378700e+04                   23787.000000   \n",
       "mean                    7.369637e+06                     686.483447   \n",
       "std                     7.616176e+07                     452.811469   \n",
       "min                    -1.298679e+08                       0.000000   \n",
       "25%                     5.300908e-01                     360.535714   \n",
       "50%                     1.936393e+00                     577.142857   \n",
       "75%                     1.006655e+01                     896.773810   \n",
       "max                     5.863297e+09                    8517.000000   \n",
       "\n",
       "       mean_diff_open_enquiry_dt  payment_history_mean_length  \\\n",
       "count               23787.000000                 23787.000000   \n",
       "mean                 -927.799857                    16.515928   \n",
       "std                   571.892118                     6.806487   \n",
       "min                 -3466.750000                     1.000000   \n",
       "25%                 -1268.414286                    11.333333   \n",
       "50%                  -778.166667                    16.200000   \n",
       "75%                  -487.750000                    21.111111   \n",
       "max                   -10.000000                    36.000000   \n",
       "\n",
       "       max_freq_enquiry  count_enquiry_recency_90  perc_unsecured_others  \n",
       "count      23787.000000              23787.000000           23787.000000  \n",
       "mean           9.173246                  0.213604               0.136242  \n",
       "std            3.405504                  0.747025               0.170450  \n",
       "min            0.000000                  0.000000               0.000000  \n",
       "25%           10.000000                  0.000000               0.000000  \n",
       "50%           10.000000                  0.000000               0.076923  \n",
       "75%           10.000000                  0.000000               0.214286  \n",
       "max           54.000000                 20.000000               1.000000  "
      ]
     },
     "execution_count": 257,
     "metadata": {},
     "output_type": "execute_result"
    }
   ],
   "source": [
    "X_train.describe()"
   ]
  },
  {
   "cell_type": "markdown",
   "metadata": {},
   "source": [
    "Up sampling for imbalanced class"
   ]
  },
  {
   "cell_type": "code",
   "execution_count": 166,
   "metadata": {
    "ExecuteTime": {
     "end_time": "2018-05-14T11:47:50.635460Z",
     "start_time": "2018-05-14T11:47:50.570708Z"
    }
   },
   "outputs": [
    {
     "data": {
      "text/plain": [
       "1    22789\n",
       "0    22789\n",
       "Name: Bad_label, dtype: int64"
      ]
     },
     "execution_count": 166,
     "metadata": {},
     "output_type": "execute_result"
    }
   ],
   "source": [
    "from sklearn.utils import resample\n",
    "\n",
    "df_minority = df_engineered[y_train==1]\n",
    "df_majority = df_engineered[y_train==0]\n",
    "num_class0 = sum(y_train==0)\n",
    " \n",
    "# Upsample minority class\n",
    "df_minority_upsampled = resample(df_minority, \n",
    "                                 replace=True,     # sample with replacement\n",
    "                                 n_samples=num_class0,    # to match majority class\n",
    "                                 random_state=23) # reproducible results\n",
    " \n",
    "# Combine majority class with upsampled minority class\n",
    "df_upsampled = pd.concat([df_majority, df_minority_upsampled])\n",
    " \n",
    "# Display new class counts\n",
    "df_upsampled['Bad_label'].value_counts()"
   ]
  },
  {
   "cell_type": "code",
   "execution_count": 168,
   "metadata": {
    "ExecuteTime": {
     "end_time": "2018-05-14T11:48:04.386791Z",
     "start_time": "2018-05-14T11:48:04.337979Z"
    }
   },
   "outputs": [],
   "source": [
    "X_train_balanced = df_upsampled[features]\n",
    "y_train_balanced = df_upsampled['Bad_label']\n",
    "\n",
    "from sklearn.preprocessing import StandardScaler\n",
    "scaler = StandardScaler()\n",
    "X_train_balanced = scaler.fit_transform(X_train_balanced)\n",
    "X_test_balanced = scaler.transform(X_test)"
   ]
  },
  {
   "cell_type": "markdown",
   "metadata": {},
   "source": [
    "**Logistic Regression**"
   ]
  },
  {
   "cell_type": "code",
   "execution_count": 172,
   "metadata": {
    "ExecuteTime": {
     "end_time": "2018-05-14T11:50:12.534066Z",
     "start_time": "2018-05-14T11:50:07.237989Z"
    },
    "collapsed": true
   },
   "outputs": [
    {
     "name": "stdout",
     "output_type": "stream",
     "text": [
      "train gini=0.26960806360058154\n",
      "test gini =0.0020033575325708597\n",
      "---Classification Report---\n",
      "             precision    recall  f1-score   support\n",
      "\n",
      "          0       0.95      1.00      0.97      9738\n",
      "          1       0.06      0.01      0.01       460\n",
      "\n",
      "avg / total       0.91      0.95      0.93     10198\n",
      "\n",
      "[[9694   44]\n",
      " [ 457    3]]\n",
      "train gini=0.269144358348107\n",
      "test gini =0.002106048023431395\n",
      "---Classification Report---\n",
      "             precision    recall  f1-score   support\n",
      "\n",
      "          0       0.95      1.00      0.97      9738\n",
      "          1       0.07      0.01      0.01       460\n",
      "\n",
      "avg / total       0.91      0.95      0.93     10198\n",
      "\n",
      "[[9695   43]\n",
      " [ 457    3]]\n",
      "train gini=0.2694087985820717\n",
      "test gini =0.002106048023431395\n",
      "---Classification Report---\n",
      "             precision    recall  f1-score   support\n",
      "\n",
      "          0       0.95      1.00      0.97      9738\n",
      "          1       0.07      0.01      0.01       460\n",
      "\n",
      "avg / total       0.91      0.95      0.93     10198\n",
      "\n",
      "[[9695   43]\n",
      " [ 457    3]]\n",
      "train gini=0.2697218198455187\n",
      "test gini =0.002106048023431395\n",
      "---Classification Report---\n",
      "             precision    recall  f1-score   support\n",
      "\n",
      "          0       0.95      1.00      0.97      9738\n",
      "          1       0.07      0.01      0.01       460\n",
      "\n",
      "avg / total       0.91      0.95      0.93     10198\n",
      "\n",
      "[[9695   43]\n",
      " [ 457    3]]\n",
      "train gini=0.26900136106021666\n",
      "test gini =0.001797976550849567\n",
      "---Classification Report---\n",
      "             precision    recall  f1-score   support\n",
      "\n",
      "          0       0.95      1.00      0.97      9738\n",
      "          1       0.06      0.01      0.01       460\n",
      "\n",
      "avg / total       0.91      0.95      0.93     10198\n",
      "\n",
      "[[9692   46]\n",
      " [ 457    3]]\n",
      "train gini=0.26894401118379574\n",
      "test gini =0.0019006670417103244\n",
      "---Classification Report---\n",
      "             precision    recall  f1-score   support\n",
      "\n",
      "          0       0.95      1.00      0.97      9738\n",
      "          1       0.06      0.01      0.01       460\n",
      "\n",
      "avg / total       0.91      0.95      0.93     10198\n",
      "\n",
      "[[9693   45]\n",
      " [ 457    3]]\n",
      "train gini=0.2689836269626531\n",
      "test gini =0.0020033575325708597\n",
      "---Classification Report---\n",
      "             precision    recall  f1-score   support\n",
      "\n",
      "          0       0.95      1.00      0.97      9738\n",
      "          1       0.06      0.01      0.01       460\n",
      "\n",
      "avg / total       0.91      0.95      0.93     10198\n",
      "\n",
      "[[9694   44]\n",
      " [ 457    3]]\n"
     ]
    }
   ],
   "source": [
    "# up sampled\n",
    "from sklearn.linear_model import LogisticRegression\n",
    "#for c in [1e-3,1e-2,0.1,1,10,1e2,1e3]:\n",
    "#for w in [1e-5,1e-3,1e-2,0.1,1,10,1e2,1e3,1e5]:\n",
    "#for w in [1e-3,1e-2,0.1,1,10,1e2,1e3]:\n",
    "for w in [1e-3,5e-2,2.5e-2,1e-2,0.5,0.25,0.1]:\n",
    "    logistic_clf = LogisticRegression(C=10, penalty='l2', class_weight={0:1,1:w})\n",
    "    # cross_val_score(logistic_clf, X_train, y_train, cv=5, scoring=\"accuracy\")\n",
    "    cv_pred = cross_val_predict(logistic_clf, X_train_balanced, y_train_balanced, cv=5, method='predict_proba')\n",
    "    auc = roc_auc_score(y_train_balanced, cv_pred[:,1])\n",
    "    gini = 2*auc -1\n",
    "    print('train gini={}'.format(gini))\n",
    "    logistic_clf.fit(X_train_balanced,y_train_balanced)\n",
    "    y_pred = logistic_clf.predict(X_test)\n",
    "    auc = roc_auc_score(y_test, y_pred)\n",
    "    gini = 2*auc -1\n",
    "    print('test gini ={}'.format(gini))\n",
    "    \n",
    "    print('---Classification Report---')\n",
    "    print(classification_report(y_test,y_pred))\n",
    "    print(confusion_matrix(y_test,y_pred))"
   ]
  },
  {
   "cell_type": "code",
   "execution_count": 173,
   "metadata": {
    "ExecuteTime": {
     "end_time": "2018-05-14T11:51:31.676526Z",
     "start_time": "2018-05-14T11:51:28.591341Z"
    }
   },
   "outputs": [
    {
     "name": "stdout",
     "output_type": "stream",
     "text": [
      "train gini=0.262728185758502\n",
      "test gini =0.0022087385142919302\n",
      "---Classification Report---\n",
      "             precision    recall  f1-score   support\n",
      "\n",
      "          0       0.95      1.00      0.97      9738\n",
      "          1       0.07      0.01      0.01       460\n",
      "\n",
      "avg / total       0.91      0.95      0.93     10198\n",
      "\n",
      "[[9696   42]\n",
      " [ 457    3]]\n",
      "train gini=0.262728185758502\n",
      "test gini =0.0022087385142919302\n",
      "---Classification Report---\n",
      "             precision    recall  f1-score   support\n",
      "\n",
      "          0       0.95      1.00      0.97      9738\n",
      "          1       0.07      0.01      0.01       460\n",
      "\n",
      "avg / total       0.91      0.95      0.93     10198\n",
      "\n",
      "[[9696   42]\n",
      " [ 457    3]]\n",
      "train gini=0.262728185758502\n",
      "test gini =0.0022087385142919302\n",
      "---Classification Report---\n",
      "             precision    recall  f1-score   support\n",
      "\n",
      "          0       0.95      1.00      0.97      9738\n",
      "          1       0.07      0.01      0.01       460\n",
      "\n",
      "avg / total       0.91      0.95      0.93     10198\n",
      "\n",
      "[[9696   42]\n",
      " [ 457    3]]\n",
      "train gini=0.262728185758502\n",
      "test gini =0.0022087385142919302\n",
      "---Classification Report---\n",
      "             precision    recall  f1-score   support\n",
      "\n",
      "          0       0.95      1.00      0.97      9738\n",
      "          1       0.07      0.01      0.01       460\n",
      "\n",
      "avg / total       0.91      0.95      0.93     10198\n",
      "\n",
      "[[9696   42]\n",
      " [ 457    3]]\n",
      "train gini=0.262728185758502\n",
      "test gini =0.0022087385142919302\n",
      "---Classification Report---\n",
      "             precision    recall  f1-score   support\n",
      "\n",
      "          0       0.95      1.00      0.97      9738\n",
      "          1       0.07      0.01      0.01       460\n",
      "\n",
      "avg / total       0.91      0.95      0.93     10198\n",
      "\n",
      "[[9696   42]\n",
      " [ 457    3]]\n",
      "train gini=0.262728185758502\n",
      "test gini =0.0022087385142919302\n",
      "---Classification Report---\n",
      "             precision    recall  f1-score   support\n",
      "\n",
      "          0       0.95      1.00      0.97      9738\n",
      "          1       0.07      0.01      0.01       460\n",
      "\n",
      "avg / total       0.91      0.95      0.93     10198\n",
      "\n",
      "[[9696   42]\n",
      " [ 457    3]]\n",
      "train gini=0.262728185758502\n",
      "test gini =0.0022087385142919302\n",
      "---Classification Report---\n",
      "             precision    recall  f1-score   support\n",
      "\n",
      "          0       0.95      1.00      0.97      9738\n",
      "          1       0.07      0.01      0.01       460\n",
      "\n",
      "avg / total       0.91      0.95      0.93     10198\n",
      "\n",
      "[[9696   42]\n",
      " [ 457    3]]\n"
     ]
    }
   ],
   "source": [
    "from sklearn.linear_model import LogisticRegression\n",
    "for c in [1e-3,1e-2,0.1,1,10,1e2,1e3]:\n",
    "    w=20\n",
    "#for w in [1e-5,1e-3,1e-2,0.1,1,10,1e2,1e3,1e5]:\n",
    "#for w in [1e-3,1e-2,0.1,1,10,1e2,1e3]:\n",
    "#for w in [10,15,20,30,40]:\n",
    "    logistic_clf = LogisticRegression(C=10, penalty='l2', class_weight={0:1,1:w})\n",
    "    # cross_val_score(logistic_clf, X_train, y_train, cv=5, scoring=\"accuracy\")\n",
    "    cv_pred = cross_val_predict(logistic_clf, X_train, y_train, cv=5, method='predict_proba')\n",
    "    auc = roc_auc_score(y_train, cv_pred[:,1])\n",
    "    gini = 2*auc -1\n",
    "    print('train gini={}'.format(gini))\n",
    "    logistic_clf.fit(X_train,y_train)\n",
    "    y_pred = logistic_clf.predict(X_test)\n",
    "    auc = roc_auc_score(y_test, y_pred)\n",
    "    gini = 2*auc -1\n",
    "    print('test gini ={}'.format(gini))\n",
    "    \n",
    "    print('---Classification Report---')\n",
    "    print(classification_report(y_test,y_pred))\n",
    "    print(confusion_matrix(y_test,y_pred))"
   ]
  },
  {
   "cell_type": "code",
   "execution_count": 164,
   "metadata": {
    "ExecuteTime": {
     "end_time": "2018-05-14T11:45:56.846445Z",
     "start_time": "2018-05-14T11:45:56.298544Z"
    },
    "collapsed": true
   },
   "outputs": [
    {
     "ename": "NameError",
     "evalue": "name 'X_train_balanced' is not defined",
     "output_type": "error",
     "traceback": [
      "\u001b[0;31m---------------------------------------------------------------------------\u001b[0m",
      "\u001b[0;31mNameError\u001b[0m                                 Traceback (most recent call last)",
      "\u001b[0;32m<ipython-input-164-85c7cb18a57b>\u001b[0m in \u001b[0;36m<module>\u001b[0;34m()\u001b[0m\n\u001b[1;32m     16\u001b[0m \u001b[0;32mfor\u001b[0m \u001b[0mw\u001b[0m\u001b[0;34m,\u001b[0m\u001b[0mk\u001b[0m \u001b[0;32min\u001b[0m \u001b[0mzip\u001b[0m\u001b[0;34m(\u001b[0m\u001b[0;34m[\u001b[0m\u001b[0;36m1\u001b[0m\u001b[0;34m,\u001b[0m\u001b[0;36m5\u001b[0m\u001b[0;34m,\u001b[0m\u001b[0;36m10\u001b[0m\u001b[0;34m,\u001b[0m\u001b[0;36m20\u001b[0m\u001b[0;34m,\u001b[0m\u001b[0;36m50\u001b[0m\u001b[0;34m,\u001b[0m\u001b[0;36m100\u001b[0m\u001b[0;34m,\u001b[0m\u001b[0;36m10000\u001b[0m\u001b[0;34m]\u001b[0m\u001b[0;34m,\u001b[0m\u001b[0;34m'bgrcmykw'\u001b[0m\u001b[0;34m)\u001b[0m\u001b[0;34m:\u001b[0m\u001b[0;34m\u001b[0m\u001b[0m\n\u001b[1;32m     17\u001b[0m     \u001b[0mlr_model\u001b[0m \u001b[0;34m=\u001b[0m \u001b[0mLogisticRegression\u001b[0m\u001b[0;34m(\u001b[0m\u001b[0mclass_weight\u001b[0m\u001b[0;34m=\u001b[0m\u001b[0;34m{\u001b[0m\u001b[0;36m0\u001b[0m\u001b[0;34m:\u001b[0m\u001b[0;36m1\u001b[0m\u001b[0;34m,\u001b[0m\u001b[0;36m1\u001b[0m\u001b[0;34m:\u001b[0m\u001b[0mw\u001b[0m\u001b[0;34m}\u001b[0m\u001b[0;34m)\u001b[0m\u001b[0;34m\u001b[0m\u001b[0m\n\u001b[0;32m---> 18\u001b[0;31m     \u001b[0mlr_model\u001b[0m\u001b[0;34m.\u001b[0m\u001b[0mfit\u001b[0m\u001b[0;34m(\u001b[0m\u001b[0mX_train_balanced\u001b[0m\u001b[0;34m,\u001b[0m\u001b[0my_train_balanced\u001b[0m\u001b[0;34m)\u001b[0m\u001b[0;34m\u001b[0m\u001b[0m\n\u001b[0m\u001b[1;32m     19\u001b[0m     \u001b[0mpred_prob\u001b[0m \u001b[0;34m=\u001b[0m \u001b[0mlr_model\u001b[0m\u001b[0;34m.\u001b[0m\u001b[0mpredict_proba\u001b[0m\u001b[0;34m(\u001b[0m\u001b[0mX_train\u001b[0m\u001b[0;34m)\u001b[0m\u001b[0;34m[\u001b[0m\u001b[0;34m:\u001b[0m\u001b[0;34m,\u001b[0m\u001b[0;36m1\u001b[0m\u001b[0;34m]\u001b[0m\u001b[0;34m\u001b[0m\u001b[0m\n\u001b[1;32m     20\u001b[0m \u001b[0;34m\u001b[0m\u001b[0m\n",
      "\u001b[0;31mNameError\u001b[0m: name 'X_train_balanced' is not defined"
     ]
    },
    {
     "data": {
      "image/png": "[encoded data removed]",
      "text/plain": [
       "<matplotlib.figure.Figure at 0x1a1bd67b38>"
      ]
     },
     "metadata": {},
     "output_type": "display_data"
    }
   ],
   "source": [
    "fig = plt.figure(figsize=(15,8))\n",
    "ax1 = fig.add_subplot(1,2,1)\n",
    "ax1.set_xlim([-0.05,1.05])\n",
    "ax1.set_ylim([-0.05,1.05])\n",
    "ax1.set_xlabel('Recall')\n",
    "ax1.set_ylabel('Precision')\n",
    "ax1.set_title('PR Curve')\n",
    "\n",
    "ax2 = fig.add_subplot(1,2,2)\n",
    "ax2.set_xlim([-0.05,1.05])\n",
    "ax2.set_ylim([-0.05,1.05])\n",
    "ax2.set_xlabel('False Positive Rate')\n",
    "ax2.set_ylabel('True Positive Rate')\n",
    "ax2.set_title('ROC Curve')\n",
    "\n",
    "for w,k in zip([1,5,10,20,50,100,10000],'bgrcmykw'):\n",
    "    lr_model = LogisticRegression(class_weight={0:1,1:w})\n",
    "    lr_model.fit(X_train_balanced,y_train_balanced)\n",
    "    pred_prob = lr_model.predict_proba(X_train)[:,1]\n",
    "\n",
    "    p,r,_ = precision_recall_curve(y_train,pred_prob)\n",
    "    tpr,fpr,_ = roc_curve(y_train,pred_prob)\n",
    "    \n",
    "    ax1.plot(r,p,c=k,label=w)\n",
    "    ax2.plot(tpr,fpr,c=k,label=w)\n",
    "ax1.legend(loc='lower left')    \n",
    "ax2.legend(loc='lower left')\n",
    "\n",
    "plt.show()"
   ]
  },
  {
   "cell_type": "code",
   "execution_count": null,
   "metadata": {
    "ExecuteTime": {
     "end_time": "2018-05-13T14:39:32.123592Z",
     "start_time": "2018-05-13T14:39:31.937954Z"
    }
   },
   "outputs": [],
   "source": [
    "cv_pred = cross_val_predict(logistic_clf, X_train, y_train, cv=5, method='predict_proba')\n",
    "cv_pred"
   ]
  },
  {
   "cell_type": "code",
   "execution_count": null,
   "metadata": {
    "ExecuteTime": {
     "end_time": "2018-05-13T14:39:32.208793Z",
     "start_time": "2018-05-13T14:39:32.185400Z"
    }
   },
   "outputs": [],
   "source": [
    "auc = roc_auc_score(y_train, cv_pred[:,1])\n",
    "gini = 2*auc -1\n",
    "gini"
   ]
  },
  {
   "cell_type": "code",
   "execution_count": null,
   "metadata": {
    "ExecuteTime": {
     "end_time": "2018-05-13T15:15:49.952173Z",
     "start_time": "2018-05-13T15:15:49.843860Z"
    }
   },
   "outputs": [],
   "source": [
    "logistic_clf.fit(X_train,y_train)\n",
    "y_pred = logistic_clf.predict(X_train)\n",
    "print('---Classification Report---')\n",
    "print(classification_report(y_train,y_pred))\n",
    "print(confusion_matrix(y_train,y_pred))"
   ]
  },
  {
   "cell_type": "markdown",
   "metadata": {
    "ExecuteTime": {
     "end_time": "2018-05-13T14:41:59.413042Z",
     "start_time": "2018-05-13T14:41:59.395526Z"
    }
   },
   "source": [
    "**XGBoost**"
   ]
  },
  {
   "cell_type": "code",
   "execution_count": null,
   "metadata": {
    "ExecuteTime": {
     "end_time": "2018-05-13T14:39:39.424781Z",
     "start_time": "2018-05-13T14:39:39.142119Z"
    }
   },
   "outputs": [],
   "source": [
    "from xgboost import XGBClassifier\n",
    "xgb_clf = XGBClassifier(n_estimators=5, seed=41,eval_metric='auc')\n",
    "cross_val_score(xgb_clf, X_train, y_train, cv=5)"
   ]
  },
  {
   "cell_type": "code",
   "execution_count": null,
   "metadata": {
    "ExecuteTime": {
     "end_time": "2018-05-13T14:39:39.879639Z",
     "start_time": "2018-05-13T14:39:39.627437Z"
    }
   },
   "outputs": [],
   "source": [
    "cv_pred = cross_val_predict(xgb_clf, X_train, y_train, cv=5, method='predict_proba')\n",
    "cv_pred"
   ]
  },
  {
   "cell_type": "code",
   "execution_count": null,
   "metadata": {
    "ExecuteTime": {
     "end_time": "2018-05-13T14:39:41.295314Z",
     "start_time": "2018-05-13T14:39:41.283737Z"
    }
   },
   "outputs": [],
   "source": [
    "auc = roc_auc_score(y_train, cv_pred[:,1])\n",
    "gini = 2*auc -1\n",
    "gini"
   ]
  },
  {
   "cell_type": "markdown",
   "metadata": {},
   "source": [
    "**Random Forest**"
   ]
  },
  {
   "cell_type": "code",
   "execution_count": 174,
   "metadata": {
    "ExecuteTime": {
     "end_time": "2018-05-14T11:53:14.002103Z",
     "start_time": "2018-05-14T11:53:11.780519Z"
    }
   },
   "outputs": [
    {
     "data": {
      "text/plain": [
       "array([0.95775536, 0.95754519, 0.95775536, 0.95816691, 0.95794786])"
      ]
     },
     "execution_count": 174,
     "metadata": {},
     "output_type": "execute_result"
    }
   ],
   "source": [
    "from sklearn.ensemble import RandomForestClassifier\n",
    "forest_clf = RandomForestClassifier(random_state=42)\n",
    "cross_val_score(forest_clf, X_train, y_train, cv=5)"
   ]
  },
  {
   "cell_type": "code",
   "execution_count": 210,
   "metadata": {
    "ExecuteTime": {
     "end_time": "2018-05-14T12:32:57.707668Z",
     "start_time": "2018-05-14T12:32:54.713690Z"
    }
   },
   "outputs": [
    {
     "name": "stdout",
     "output_type": "stream",
     "text": [
      "0.08078436921233734\n",
      "---Classification Report---\n",
      "             precision    recall  f1-score   support\n",
      "\n",
      "          0       0.99      1.00      0.99     22789\n",
      "          1       1.00      0.75      0.86       998\n",
      "\n",
      "avg / total       0.99      0.99      0.99     23787\n",
      "\n",
      "[[22788     1]\n",
      " [  252   746]]\n",
      "---Classification Report---\n",
      "             precision    recall  f1-score   support\n",
      "\n",
      "          0       0.95      1.00      0.98      9738\n",
      "          1       0.00      0.00      0.00       460\n",
      "\n",
      "avg / total       0.91      0.95      0.93     10198\n",
      "\n",
      "[[9738    0]\n",
      " [ 460    0]]\n"
     ]
    },
    {
     "name": "stderr",
     "output_type": "stream",
     "text": [
      "/Users/CrazyGear/anaconda2/envs/py36/lib/python3.6/site-packages/sklearn/metrics/classification.py:1135: UndefinedMetricWarning: Precision and F-score are ill-defined and being set to 0.0 in labels with no predicted samples.\n",
      "  'precision', 'predicted', average, warn_for)\n"
     ]
    }
   ],
   "source": [
    "cv_pred=cross_val_predict(forest_clf, X_train, y_train, cv=5,method='predict_proba')\n",
    "auc = roc_auc_score(y_train, cv_pred[:,1])\n",
    "gini = 2*auc -1\n",
    "print(gini)\n",
    "forest_clf.fit(X_train, y_train)\n",
    "y_pred = forest_clf.predict(X_train)\n",
    "print('---Classification Report---')\n",
    "print(classification_report(y_train,y_pred))\n",
    "print(confusion_matrix(y_train,y_pred))\n",
    "y_pred = forest_clf.predict(X_test)\n",
    "print('---Classification Report---')\n",
    "print(classification_report(y_test,y_pred))\n",
    "print(confusion_matrix(y_test,y_pred))"
   ]
  },
  {
   "cell_type": "markdown",
   "metadata": {},
   "source": [
    "Fine tune hyper parameter"
   ]
  },
  {
   "cell_type": "code",
   "execution_count": 201,
   "metadata": {
    "ExecuteTime": {
     "end_time": "2018-05-14T12:10:34.627863Z",
     "start_time": "2018-05-14T12:10:25.132532Z"
    }
   },
   "outputs": [],
   "source": [
    "from sklearn.model_selection import GridSearchCV\n",
    "from sklearn.metrics import make_scorer\n",
    "\n",
    "X=X_train\n",
    "y=y_train\n",
    "\n",
    "# The scorers can be either be one of the predefined metric strings or a scorer\n",
    "# callable, like the one returned by make_scorer\n",
    "scoring = {'AUC': 'roc_auc', 'Accuracy': make_scorer(accuracy_score)}\n",
    "\n",
    "# Setting refit='AUC', refits an estimator on the whole dataset with the\n",
    "# parameter setting that has the best cross-validated AUC score.\n",
    "# That estimator is made available at ``gs.best_estimator_`` along with\n",
    "# parameters like ``gs.best_score_``, ``gs.best_parameters_`` and\n",
    "# ``gs.best_index_``\n",
    "#                  param_grid={'min_samples_split': np.power(2,range(1,18,2))},\n",
    "gs = GridSearchCV(RandomForestClassifier(random_state=42),\n",
    "                  param_grid={'min_samples_split': np.ceil(np.power(2,np.linspace(10,11,5))).astype(int)},\n",
    "                  scoring=scoring, cv=5, refit='AUC',return_train_score=True)\n",
    "gs.fit(X, y)\n",
    "results = gs.cv_results_"
   ]
  },
  {
   "cell_type": "code",
   "execution_count": 180,
   "metadata": {
    "ExecuteTime": {
     "end_time": "2018-05-14T11:58:42.576437Z",
     "start_time": "2018-05-14T11:58:42.559290Z"
    },
    "collapsed": true
   },
   "outputs": [
    {
     "data": {
      "text/plain": [
       "{'mean_fit_time': array([0.42988815, 0.42846956, 0.42664161, 0.41585798, 0.40868883,\n",
       "        0.3989994 ]),\n",
       " 'mean_score_time': array([0.02137666, 0.02471285, 0.02354922, 0.02347894, 0.02308459,\n",
       "        0.02050242]),\n",
       " 'mean_test_AUC': array([0.54020138, 0.55963052, 0.56079417, 0.57855584, 0.58553275,\n",
       "        0.58860628]),\n",
       " 'mean_test_Accuracy': array([0.95783411, 0.95766595, 0.95770799, 0.95800227, 0.95800227,\n",
       "        0.95804431]),\n",
       " 'mean_train_AUC': array([0.99981952, 0.99933739, 0.99735994, 0.99101548, 0.97571839,\n",
       "        0.94923802]),\n",
       " 'mean_train_Accuracy': array([0.98987895, 0.9817863 , 0.96758734, 0.96034598, 0.95872745,\n",
       "        0.9583491 ]),\n",
       " 'param_min_samples_split': masked_array(data=[2, 4, 8, 16, 32, 64],\n",
       "              mask=[False, False, False, False, False, False],\n",
       "        fill_value='?',\n",
       "             dtype=object),\n",
       " 'params': [{'min_samples_split': 2},\n",
       "  {'min_samples_split': 4},\n",
       "  {'min_samples_split': 8},\n",
       "  {'min_samples_split': 16},\n",
       "  {'min_samples_split': 32},\n",
       "  {'min_samples_split': 64}],\n",
       " 'rank_test_AUC': array([6, 5, 4, 3, 2, 1], dtype=int32),\n",
       " 'rank_test_Accuracy': array([4, 6, 5, 2, 2, 1], dtype=int32),\n",
       " 'split0_test_AUC': array([0.54001097, 0.59480309, 0.58304026, 0.61185004, 0.62068506,\n",
       "        0.62573991]),\n",
       " 'split0_test_Accuracy': array([0.95775536, 0.95754519, 0.95796553, 0.95796553, 0.95796553,\n",
       "        0.95796553]),\n",
       " 'split0_train_AUC': array([0.99994611, 0.99957394, 0.99780511, 0.99163953, 0.97430524,\n",
       "        0.94985011]),\n",
       " 'split0_train_Accuracy': array([0.99043565, 0.98255295, 0.96705029, 0.96063902, 0.95864207,\n",
       "        0.95837932]),\n",
       " 'split1_test_AUC': array([0.51682481, 0.55154947, 0.55159774, 0.57118638, 0.57256801,\n",
       "        0.58849879]),\n",
       " 'split1_test_Accuracy': array([0.95754519, 0.95796553, 0.95775536, 0.95775536, 0.95796553,\n",
       "        0.95796553]),\n",
       " 'split1_train_AUC': array([0.99990642, 0.99930971, 0.99764172, 0.99142906, 0.97633987,\n",
       "        0.95317922]),\n",
       " 'split1_train_Accuracy': array([0.99033055, 0.98165957, 0.96768091, 0.96032372, 0.95895738,\n",
       "        0.95848442]),\n",
       " 'split2_test_AUC': array([0.53701404, 0.5216663 , 0.53901821, 0.55298322, 0.54775614,\n",
       "        0.54180671]),\n",
       " 'split2_test_Accuracy': array([0.95775536, 0.95775536, 0.95775536, 0.95796553, 0.95796553,\n",
       "        0.95796553]),\n",
       " 'split2_train_AUC': array([0.99977915, 0.99943567, 0.99714273, 0.99115514, 0.97610706,\n",
       "        0.95137108]),\n",
       " 'split2_train_Accuracy': array([0.99064586, 0.98250039, 0.96815387, 0.95995586, 0.95843187,\n",
       "        0.95827421]),\n",
       " 'split3_test_AUC': array([0.55892561, 0.57688619, 0.57883262, 0.59988071, 0.60714278,\n",
       "        0.6118774 ]),\n",
       " 'split3_test_Accuracy': array([0.95816691, 0.95753626, 0.95711583, 0.95816691, 0.9579567 ,\n",
       "        0.95816691]),\n",
       " 'split3_train_AUC': array([0.99966643, 0.99893503, 0.99720494, 0.99078318, 0.97613041,\n",
       "        0.94784973]),\n",
       " 'split3_train_Accuracy': array([0.98896479, 0.98181818, 0.96726222, 0.9603258 , 0.95885444,\n",
       "        0.95832895]),\n",
       " 'split4_test_AUC': array([0.54823878, 0.55324847, 0.5514819 , 0.55687423, 0.57951376,\n",
       "        0.57510782]),\n",
       " 'split4_test_Accuracy': array([0.95794786, 0.95752733, 0.95794786, 0.95815812, 0.95815812,\n",
       "        0.95815812]),\n",
       " 'split4_train_AUC': array([0.99979948, 0.9994326 , 0.99700519, 0.99007051, 0.97570934,\n",
       "        0.94393994]),\n",
       " 'split4_train_Accuracy': array([0.98901792, 0.9804004 , 0.9677894 , 0.96048552, 0.95875151,\n",
       "        0.9582786 ]),\n",
       " 'std_fit_time': array([0.04544918, 0.04269935, 0.0195493 , 0.02146509, 0.03113993,\n",
       "        0.02387261]),\n",
       " 'std_score_time': array([0.00102339, 0.00231732, 0.00336594, 0.00381547, 0.00267534,\n",
       "        0.00252776]),\n",
       " 'std_test_AUC': array([0.01394186, 0.02482939, 0.01712215, 0.02341652, 0.0258239 ,\n",
       "        0.02930263]),\n",
       " 'std_test_Accuracy': array([2.09558525e-04, 1.72259894e-04, 3.09505300e-04, 1.51695621e-04,\n",
       "        7.79837533e-05, 9.65384569e-05]),\n",
       " 'std_train_AUC': array([9.90397781e-05, 2.17872250e-04, 3.08101216e-04, 5.52614169e-04,\n",
       "        7.35409794e-04, 3.17662243e-03]),\n",
       " 'std_train_Accuracy': array([7.31992067e-04, 7.79162725e-04, 3.91066220e-04, 2.27352811e-04,\n",
       "        1.81235855e-04, 7.77284021e-05])}"
      ]
     },
     "execution_count": 180,
     "metadata": {},
     "output_type": "execute_result"
    }
   ],
   "source": [
    "results"
   ]
  },
  {
   "cell_type": "code",
   "execution_count": 205,
   "metadata": {
    "ExecuteTime": {
     "end_time": "2018-05-14T12:11:48.817203Z",
     "start_time": "2018-05-14T12:11:48.425363Z"
    }
   },
   "outputs": [
    {
     "name": "stderr",
     "output_type": "stream",
     "text": [
      "/Users/CrazyGear/anaconda2/envs/py36/lib/python3.6/site-packages/matplotlib/cbook/deprecation.py:106: MatplotlibDeprecationWarning: Adding an axes using the same arguments as a previous axes currently reuses the earlier instance.  In a future version, a new instance will always be created and returned.  Meanwhile, this warning can be suppressed, and the future behavior ensured, by passing a unique label to each axes instance.\n",
      "  warnings.warn(message, mplDeprecation, stacklevel=1)\n"
     ]
    },
    {
     "data": {
      "image/png": "[encoded data removed]",
      "text/plain": [
       "<matplotlib.figure.Figure at 0x1a2f36ff98>"
      ]
     },
     "metadata": {},
     "output_type": "display_data"
    }
   ],
   "source": [
    "plt.figure(figsize=(13, 6))\n",
    "plt.title(\"GridSearchCV evaluating using multiple scorers simultaneously\",\n",
    "          fontsize=16)\n",
    "\n",
    "plt.xlabel(\"log2(min_samples_split)\")\n",
    "plt.ylabel(\"Score\")\n",
    "plt.grid()\n",
    "\n",
    "ax = plt.axes()\n",
    "ax.set_xlim(9, 12)\n",
    "#ax.set_xlim(0, 20)\n",
    "ax.set_ylim(0.4, 1)\n",
    "\n",
    "# Get the regular numpy array from the MaskedArray\n",
    "X_axis = np.array(results['param_min_samples_split'].data, dtype=float)\n",
    "X_axis = np.log2(X_axis)\n",
    "\n",
    "for scorer, color in zip(sorted(scoring), ['g', 'k']):\n",
    "    for sample, style in (('train', '--'), ('test', '-')):\n",
    "        sample_score_mean = results['mean_%s_%s' % (sample, scorer)]\n",
    "        sample_score_std = results['std_%s_%s' % (sample, scorer)]\n",
    "        ax.fill_between(X_axis, sample_score_mean - sample_score_std,\n",
    "                        sample_score_mean + sample_score_std,\n",
    "                        alpha=0.1 if sample == 'test' else 0, color=color)\n",
    "        ax.plot(X_axis, sample_score_mean, style, color=color,\n",
    "                alpha=1 if sample == 'test' else 0.7,\n",
    "                label=\"%s (%s)\" % (scorer, sample))\n",
    "\n",
    "    best_index = np.nonzero(results['rank_test_%s' % scorer] == 1)[0][0]\n",
    "    best_score = results['mean_test_%s' % scorer][best_index]\n",
    "\n",
    "    # Plot a dotted vertical line at the best score for that scorer marked by x\n",
    "    ax.plot([X_axis[best_index], ] * 2, [0, best_score],\n",
    "            linestyle='-.', color=color, marker='x', markeredgewidth=3, ms=8)\n",
    "\n",
    "    # Annotate the best score for that scorer\n",
    "    ax.annotate(\"%0.2f\" % best_score,\n",
    "                (X_axis[best_index], best_score + 0.005))\n",
    "plt.legend(loc=\"best\")\n",
    "plt.grid('off')\n",
    "plt.show()"
   ]
  },
  {
   "cell_type": "code",
   "execution_count": 209,
   "metadata": {
    "ExecuteTime": {
     "end_time": "2018-05-14T12:19:28.763725Z",
     "start_time": "2018-05-14T12:19:26.760709Z"
    }
   },
   "outputs": [
    {
     "name": "stdout",
     "output_type": "stream",
     "text": [
      "test gini =0.024245671372570055\n",
      "---Classification Report---\n",
      "             precision    recall  f1-score   support\n",
      "\n",
      "          0       0.96      0.95      0.95      9738\n",
      "          1       0.06      0.08      0.07       460\n",
      "\n",
      "avg / total       0.92      0.91      0.91     10198\n",
      "\n",
      "[[9212  526]\n",
      " [ 424   36]]\n",
      "test gini =0.0\n",
      "---Classification Report---\n",
      "             precision    recall  f1-score   support\n",
      "\n",
      "          0       0.95      1.00      0.98      9738\n",
      "          1       0.00      0.00      0.00       460\n",
      "\n",
      "avg / total       0.91      0.95      0.93     10198\n",
      "\n",
      "[[9738    0]\n",
      " [ 460    0]]\n"
     ]
    },
    {
     "name": "stderr",
     "output_type": "stream",
     "text": [
      "/Users/CrazyGear/anaconda2/envs/py36/lib/python3.6/site-packages/sklearn/metrics/classification.py:1135: UndefinedMetricWarning: Precision and F-score are ill-defined and being set to 0.0 in labels with no predicted samples.\n",
      "  'precision', 'predicted', average, warn_for)\n"
     ]
    },
    {
     "name": "stdout",
     "output_type": "stream",
     "text": [
      "test gini =0.0\n",
      "---Classification Report---\n",
      "             precision    recall  f1-score   support\n",
      "\n",
      "          0       0.95      1.00      0.98      9738\n",
      "          1       0.00      0.00      0.00       460\n",
      "\n",
      "avg / total       0.91      0.95      0.93     10198\n",
      "\n",
      "[[9738    0]\n",
      " [ 460    0]]\n"
     ]
    },
    {
     "name": "stderr",
     "output_type": "stream",
     "text": [
      "/Users/CrazyGear/anaconda2/envs/py36/lib/python3.6/site-packages/sklearn/metrics/classification.py:1135: UndefinedMetricWarning: Precision and F-score are ill-defined and being set to 0.0 in labels with no predicted samples.\n",
      "  'precision', 'predicted', average, warn_for)\n"
     ]
    },
    {
     "name": "stdout",
     "output_type": "stream",
     "text": [
      "test gini =0.0\n",
      "---Classification Report---\n",
      "             precision    recall  f1-score   support\n",
      "\n",
      "          0       0.95      1.00      0.98      9738\n",
      "          1       0.00      0.00      0.00       460\n",
      "\n",
      "avg / total       0.91      0.95      0.93     10198\n",
      "\n",
      "[[9738    0]\n",
      " [ 460    0]]\n"
     ]
    },
    {
     "name": "stderr",
     "output_type": "stream",
     "text": [
      "/Users/CrazyGear/anaconda2/envs/py36/lib/python3.6/site-packages/sklearn/metrics/classification.py:1135: UndefinedMetricWarning: Precision and F-score are ill-defined and being set to 0.0 in labels with no predicted samples.\n",
      "  'precision', 'predicted', average, warn_for)\n"
     ]
    }
   ],
   "source": [
    "# for c in np.ceil(np.power(2,np.linspace(4,14,7))).astype(int):\n",
    "for c in [2,64,256,1024]:\n",
    "    rdf_clf = RandomForestClassifier(min_samples_split=c)\n",
    "    rdf_clf.fit(X_train,y_train)\n",
    "    \n",
    "    y_pred = rdf_clf.predict(X_test)\n",
    "    auc = roc_auc_score(y_test, y_pred)\n",
    "    gini = 2*auc -1\n",
    "    \n",
    "    print('---Classification Report---')\n",
    "    print('test gini ={}'.format(gini))\n",
    "    print(classification_report(y_test,y_pred))\n",
    "    print(confusion_matrix(y_test,y_pred))"
   ]
  },
  {
   "cell_type": "markdown",
   "metadata": {},
   "source": [
    "**SVM**"
   ]
  },
  {
   "cell_type": "code",
   "execution_count": 211,
   "metadata": {
    "ExecuteTime": {
     "end_time": "2018-05-14T12:36:30.577405Z",
     "start_time": "2018-05-14T12:34:12.323719Z"
    },
    "collapsed": true
   },
   "outputs": [
    {
     "name": "stdout",
     "output_type": "stream",
     "text": [
      "C=1\n"
     ]
    },
    {
     "ename": "KeyboardInterrupt",
     "evalue": "",
     "output_type": "error",
     "traceback": [
      "\u001b[0;31m---------------------------------------------------------------------------\u001b[0m",
      "\u001b[0;31mKeyboardInterrupt\u001b[0m                         Traceback (most recent call last)",
      "\u001b[0;32m<ipython-input-211-8506fa8879d2>\u001b[0m in \u001b[0;36m<module>\u001b[0;34m()\u001b[0m\n\u001b[1;32m      3\u001b[0m     \u001b[0msvm_clf\u001b[0m \u001b[0;34m=\u001b[0m \u001b[0mSVC\u001b[0m\u001b[0;34m(\u001b[0m\u001b[0mC\u001b[0m\u001b[0;34m=\u001b[0m\u001b[0mC\u001b[0m\u001b[0;34m,\u001b[0m \u001b[0mkernel\u001b[0m\u001b[0;34m=\u001b[0m\u001b[0;34m'rbf'\u001b[0m\u001b[0;34m,\u001b[0m\u001b[0mclass_weight\u001b[0m\u001b[0;34m=\u001b[0m\u001b[0;34m'balanced'\u001b[0m\u001b[0;34m,\u001b[0m\u001b[0mprobability\u001b[0m\u001b[0;34m=\u001b[0m\u001b[0;32mTrue\u001b[0m\u001b[0;34m)\u001b[0m\u001b[0;34m\u001b[0m\u001b[0m\n\u001b[1;32m      4\u001b[0m     \u001b[0mprint\u001b[0m\u001b[0;34m(\u001b[0m\u001b[0;34m'C={}'\u001b[0m\u001b[0;34m.\u001b[0m\u001b[0mformat\u001b[0m\u001b[0;34m(\u001b[0m\u001b[0mC\u001b[0m\u001b[0;34m)\u001b[0m\u001b[0;34m)\u001b[0m\u001b[0;34m\u001b[0m\u001b[0m\n\u001b[0;32m----> 5\u001b[0;31m     \u001b[0mprint\u001b[0m\u001b[0;34m(\u001b[0m\u001b[0mcross_val_score\u001b[0m\u001b[0;34m(\u001b[0m\u001b[0msvm_clf\u001b[0m\u001b[0;34m,\u001b[0m \u001b[0mX_train\u001b[0m\u001b[0;34m,\u001b[0m \u001b[0my_train\u001b[0m\u001b[0;34m,\u001b[0m \u001b[0mcv\u001b[0m\u001b[0;34m=\u001b[0m\u001b[0;36m5\u001b[0m\u001b[0;34m)\u001b[0m\u001b[0;34m)\u001b[0m\u001b[0;34m\u001b[0m\u001b[0m\n\u001b[0m",
      "\u001b[0;32m~/anaconda2/envs/py36/lib/python3.6/site-packages/sklearn/model_selection/_validation.py\u001b[0m in \u001b[0;36mcross_val_score\u001b[0;34m(estimator, X, y, groups, scoring, cv, n_jobs, verbose, fit_params, pre_dispatch)\u001b[0m\n\u001b[1;32m    340\u001b[0m                                 \u001b[0mn_jobs\u001b[0m\u001b[0;34m=\u001b[0m\u001b[0mn_jobs\u001b[0m\u001b[0;34m,\u001b[0m \u001b[0mverbose\u001b[0m\u001b[0;34m=\u001b[0m\u001b[0mverbose\u001b[0m\u001b[0;34m,\u001b[0m\u001b[0;34m\u001b[0m\u001b[0m\n\u001b[1;32m    341\u001b[0m                                 \u001b[0mfit_params\u001b[0m\u001b[0;34m=\u001b[0m\u001b[0mfit_params\u001b[0m\u001b[0;34m,\u001b[0m\u001b[0;34m\u001b[0m\u001b[0m\n\u001b[0;32m--> 342\u001b[0;31m                                 pre_dispatch=pre_dispatch)\n\u001b[0m\u001b[1;32m    343\u001b[0m     \u001b[0;32mreturn\u001b[0m \u001b[0mcv_results\u001b[0m\u001b[0;34m[\u001b[0m\u001b[0;34m'test_score'\u001b[0m\u001b[0;34m]\u001b[0m\u001b[0;34m\u001b[0m\u001b[0m\n\u001b[1;32m    344\u001b[0m \u001b[0;34m\u001b[0m\u001b[0m\n",
      "\u001b[0;32m~/anaconda2/envs/py36/lib/python3.6/site-packages/sklearn/model_selection/_validation.py\u001b[0m in \u001b[0;36mcross_validate\u001b[0;34m(estimator, X, y, groups, scoring, cv, n_jobs, verbose, fit_params, pre_dispatch, return_train_score)\u001b[0m\n\u001b[1;32m    204\u001b[0m             \u001b[0mfit_params\u001b[0m\u001b[0;34m,\u001b[0m \u001b[0mreturn_train_score\u001b[0m\u001b[0;34m=\u001b[0m\u001b[0mreturn_train_score\u001b[0m\u001b[0;34m,\u001b[0m\u001b[0;34m\u001b[0m\u001b[0m\n\u001b[1;32m    205\u001b[0m             return_times=True)\n\u001b[0;32m--> 206\u001b[0;31m         for train, test in cv.split(X, y, groups))\n\u001b[0m\u001b[1;32m    207\u001b[0m \u001b[0;34m\u001b[0m\u001b[0m\n\u001b[1;32m    208\u001b[0m     \u001b[0;32mif\u001b[0m \u001b[0mreturn_train_score\u001b[0m\u001b[0;34m:\u001b[0m\u001b[0;34m\u001b[0m\u001b[0m\n",
      "\u001b[0;32m~/anaconda2/envs/py36/lib/python3.6/site-packages/sklearn/externals/joblib/parallel.py\u001b[0m in \u001b[0;36m__call__\u001b[0;34m(self, iterable)\u001b[0m\n\u001b[1;32m    777\u001b[0m             \u001b[0;31m# was dispatched. In particular this covers the edge\u001b[0m\u001b[0;34m\u001b[0m\u001b[0;34m\u001b[0m\u001b[0m\n\u001b[1;32m    778\u001b[0m             \u001b[0;31m# case of Parallel used with an exhausted iterator.\u001b[0m\u001b[0;34m\u001b[0m\u001b[0;34m\u001b[0m\u001b[0m\n\u001b[0;32m--> 779\u001b[0;31m             \u001b[0;32mwhile\u001b[0m \u001b[0mself\u001b[0m\u001b[0;34m.\u001b[0m\u001b[0mdispatch_one_batch\u001b[0m\u001b[0;34m(\u001b[0m\u001b[0miterator\u001b[0m\u001b[0;34m)\u001b[0m\u001b[0;34m:\u001b[0m\u001b[0;34m\u001b[0m\u001b[0m\n\u001b[0m\u001b[1;32m    780\u001b[0m                 \u001b[0mself\u001b[0m\u001b[0;34m.\u001b[0m\u001b[0m_iterating\u001b[0m \u001b[0;34m=\u001b[0m \u001b[0;32mTrue\u001b[0m\u001b[0;34m\u001b[0m\u001b[0m\n\u001b[1;32m    781\u001b[0m             \u001b[0;32melse\u001b[0m\u001b[0;34m:\u001b[0m\u001b[0;34m\u001b[0m\u001b[0m\n",
      "\u001b[0;32m~/anaconda2/envs/py36/lib/python3.6/site-packages/sklearn/externals/joblib/parallel.py\u001b[0m in \u001b[0;36mdispatch_one_batch\u001b[0;34m(self, iterator)\u001b[0m\n\u001b[1;32m    623\u001b[0m                 \u001b[0;32mreturn\u001b[0m \u001b[0;32mFalse\u001b[0m\u001b[0;34m\u001b[0m\u001b[0m\n\u001b[1;32m    624\u001b[0m             \u001b[0;32melse\u001b[0m\u001b[0;34m:\u001b[0m\u001b[0;34m\u001b[0m\u001b[0m\n\u001b[0;32m--> 625\u001b[0;31m                 \u001b[0mself\u001b[0m\u001b[0;34m.\u001b[0m\u001b[0m_dispatch\u001b[0m\u001b[0;34m(\u001b[0m\u001b[0mtasks\u001b[0m\u001b[0;34m)\u001b[0m\u001b[0;34m\u001b[0m\u001b[0m\n\u001b[0m\u001b[1;32m    626\u001b[0m                 \u001b[0;32mreturn\u001b[0m \u001b[0;32mTrue\u001b[0m\u001b[0;34m\u001b[0m\u001b[0m\n\u001b[1;32m    627\u001b[0m \u001b[0;34m\u001b[0m\u001b[0m\n",
      "\u001b[0;32m~/anaconda2/envs/py36/lib/python3.6/site-packages/sklearn/externals/joblib/parallel.py\u001b[0m in \u001b[0;36m_dispatch\u001b[0;34m(self, batch)\u001b[0m\n\u001b[1;32m    586\u001b[0m         \u001b[0mdispatch_timestamp\u001b[0m \u001b[0;34m=\u001b[0m \u001b[0mtime\u001b[0m\u001b[0;34m.\u001b[0m\u001b[0mtime\u001b[0m\u001b[0;34m(\u001b[0m\u001b[0;34m)\u001b[0m\u001b[0;34m\u001b[0m\u001b[0m\n\u001b[1;32m    587\u001b[0m         \u001b[0mcb\u001b[0m \u001b[0;34m=\u001b[0m \u001b[0mBatchCompletionCallBack\u001b[0m\u001b[0;34m(\u001b[0m\u001b[0mdispatch_timestamp\u001b[0m\u001b[0;34m,\u001b[0m \u001b[0mlen\u001b[0m\u001b[0;34m(\u001b[0m\u001b[0mbatch\u001b[0m\u001b[0;34m)\u001b[0m\u001b[0;34m,\u001b[0m \u001b[0mself\u001b[0m\u001b[0;34m)\u001b[0m\u001b[0;34m\u001b[0m\u001b[0m\n\u001b[0;32m--> 588\u001b[0;31m         \u001b[0mjob\u001b[0m \u001b[0;34m=\u001b[0m \u001b[0mself\u001b[0m\u001b[0;34m.\u001b[0m\u001b[0m_backend\u001b[0m\u001b[0;34m.\u001b[0m\u001b[0mapply_async\u001b[0m\u001b[0;34m(\u001b[0m\u001b[0mbatch\u001b[0m\u001b[0;34m,\u001b[0m \u001b[0mcallback\u001b[0m\u001b[0;34m=\u001b[0m\u001b[0mcb\u001b[0m\u001b[0;34m)\u001b[0m\u001b[0;34m\u001b[0m\u001b[0m\n\u001b[0m\u001b[1;32m    589\u001b[0m         \u001b[0mself\u001b[0m\u001b[0;34m.\u001b[0m\u001b[0m_jobs\u001b[0m\u001b[0;34m.\u001b[0m\u001b[0mappend\u001b[0m\u001b[0;34m(\u001b[0m\u001b[0mjob\u001b[0m\u001b[0;34m)\u001b[0m\u001b[0;34m\u001b[0m\u001b[0m\n\u001b[1;32m    590\u001b[0m \u001b[0;34m\u001b[0m\u001b[0m\n",
      "\u001b[0;32m~/anaconda2/envs/py36/lib/python3.6/site-packages/sklearn/externals/joblib/_parallel_backends.py\u001b[0m in \u001b[0;36mapply_async\u001b[0;34m(self, func, callback)\u001b[0m\n\u001b[1;32m    109\u001b[0m     \u001b[0;32mdef\u001b[0m \u001b[0mapply_async\u001b[0m\u001b[0;34m(\u001b[0m\u001b[0mself\u001b[0m\u001b[0;34m,\u001b[0m \u001b[0mfunc\u001b[0m\u001b[0;34m,\u001b[0m \u001b[0mcallback\u001b[0m\u001b[0;34m=\u001b[0m\u001b[0;32mNone\u001b[0m\u001b[0;34m)\u001b[0m\u001b[0;34m:\u001b[0m\u001b[0;34m\u001b[0m\u001b[0m\n\u001b[1;32m    110\u001b[0m         \u001b[0;34m\"\"\"Schedule a func to be run\"\"\"\u001b[0m\u001b[0;34m\u001b[0m\u001b[0m\n\u001b[0;32m--> 111\u001b[0;31m         \u001b[0mresult\u001b[0m \u001b[0;34m=\u001b[0m \u001b[0mImmediateResult\u001b[0m\u001b[0;34m(\u001b[0m\u001b[0mfunc\u001b[0m\u001b[0;34m)\u001b[0m\u001b[0;34m\u001b[0m\u001b[0m\n\u001b[0m\u001b[1;32m    112\u001b[0m         \u001b[0;32mif\u001b[0m \u001b[0mcallback\u001b[0m\u001b[0;34m:\u001b[0m\u001b[0;34m\u001b[0m\u001b[0m\n\u001b[1;32m    113\u001b[0m             \u001b[0mcallback\u001b[0m\u001b[0;34m(\u001b[0m\u001b[0mresult\u001b[0m\u001b[0;34m)\u001b[0m\u001b[0;34m\u001b[0m\u001b[0m\n",
      "\u001b[0;32m~/anaconda2/envs/py36/lib/python3.6/site-packages/sklearn/externals/joblib/_parallel_backends.py\u001b[0m in \u001b[0;36m__init__\u001b[0;34m(self, batch)\u001b[0m\n\u001b[1;32m    330\u001b[0m         \u001b[0;31m# Don't delay the application, to avoid keeping the input\u001b[0m\u001b[0;34m\u001b[0m\u001b[0;34m\u001b[0m\u001b[0m\n\u001b[1;32m    331\u001b[0m         \u001b[0;31m# arguments in memory\u001b[0m\u001b[0;34m\u001b[0m\u001b[0;34m\u001b[0m\u001b[0m\n\u001b[0;32m--> 332\u001b[0;31m         \u001b[0mself\u001b[0m\u001b[0;34m.\u001b[0m\u001b[0mresults\u001b[0m \u001b[0;34m=\u001b[0m \u001b[0mbatch\u001b[0m\u001b[0;34m(\u001b[0m\u001b[0;34m)\u001b[0m\u001b[0;34m\u001b[0m\u001b[0m\n\u001b[0m\u001b[1;32m    333\u001b[0m \u001b[0;34m\u001b[0m\u001b[0m\n\u001b[1;32m    334\u001b[0m     \u001b[0;32mdef\u001b[0m \u001b[0mget\u001b[0m\u001b[0;34m(\u001b[0m\u001b[0mself\u001b[0m\u001b[0;34m)\u001b[0m\u001b[0;34m:\u001b[0m\u001b[0;34m\u001b[0m\u001b[0m\n",
      "\u001b[0;32m~/anaconda2/envs/py36/lib/python3.6/site-packages/sklearn/externals/joblib/parallel.py\u001b[0m in \u001b[0;36m__call__\u001b[0;34m(self)\u001b[0m\n\u001b[1;32m    129\u001b[0m \u001b[0;34m\u001b[0m\u001b[0m\n\u001b[1;32m    130\u001b[0m     \u001b[0;32mdef\u001b[0m \u001b[0m__call__\u001b[0m\u001b[0;34m(\u001b[0m\u001b[0mself\u001b[0m\u001b[0;34m)\u001b[0m\u001b[0;34m:\u001b[0m\u001b[0;34m\u001b[0m\u001b[0m\n\u001b[0;32m--> 131\u001b[0;31m         \u001b[0;32mreturn\u001b[0m \u001b[0;34m[\u001b[0m\u001b[0mfunc\u001b[0m\u001b[0;34m(\u001b[0m\u001b[0;34m*\u001b[0m\u001b[0margs\u001b[0m\u001b[0;34m,\u001b[0m \u001b[0;34m**\u001b[0m\u001b[0mkwargs\u001b[0m\u001b[0;34m)\u001b[0m \u001b[0;32mfor\u001b[0m \u001b[0mfunc\u001b[0m\u001b[0;34m,\u001b[0m \u001b[0margs\u001b[0m\u001b[0;34m,\u001b[0m \u001b[0mkwargs\u001b[0m \u001b[0;32min\u001b[0m \u001b[0mself\u001b[0m\u001b[0;34m.\u001b[0m\u001b[0mitems\u001b[0m\u001b[0;34m]\u001b[0m\u001b[0;34m\u001b[0m\u001b[0m\n\u001b[0m\u001b[1;32m    132\u001b[0m \u001b[0;34m\u001b[0m\u001b[0m\n\u001b[1;32m    133\u001b[0m     \u001b[0;32mdef\u001b[0m \u001b[0m__len__\u001b[0m\u001b[0;34m(\u001b[0m\u001b[0mself\u001b[0m\u001b[0;34m)\u001b[0m\u001b[0;34m:\u001b[0m\u001b[0;34m\u001b[0m\u001b[0m\n",
      "\u001b[0;32m~/anaconda2/envs/py36/lib/python3.6/site-packages/sklearn/externals/joblib/parallel.py\u001b[0m in \u001b[0;36m<listcomp>\u001b[0;34m(.0)\u001b[0m\n\u001b[1;32m    129\u001b[0m \u001b[0;34m\u001b[0m\u001b[0m\n\u001b[1;32m    130\u001b[0m     \u001b[0;32mdef\u001b[0m \u001b[0m__call__\u001b[0m\u001b[0;34m(\u001b[0m\u001b[0mself\u001b[0m\u001b[0;34m)\u001b[0m\u001b[0;34m:\u001b[0m\u001b[0;34m\u001b[0m\u001b[0m\n\u001b[0;32m--> 131\u001b[0;31m         \u001b[0;32mreturn\u001b[0m \u001b[0;34m[\u001b[0m\u001b[0mfunc\u001b[0m\u001b[0;34m(\u001b[0m\u001b[0;34m*\u001b[0m\u001b[0margs\u001b[0m\u001b[0;34m,\u001b[0m \u001b[0;34m**\u001b[0m\u001b[0mkwargs\u001b[0m\u001b[0;34m)\u001b[0m \u001b[0;32mfor\u001b[0m \u001b[0mfunc\u001b[0m\u001b[0;34m,\u001b[0m \u001b[0margs\u001b[0m\u001b[0;34m,\u001b[0m \u001b[0mkwargs\u001b[0m \u001b[0;32min\u001b[0m \u001b[0mself\u001b[0m\u001b[0;34m.\u001b[0m\u001b[0mitems\u001b[0m\u001b[0;34m]\u001b[0m\u001b[0;34m\u001b[0m\u001b[0m\n\u001b[0m\u001b[1;32m    132\u001b[0m \u001b[0;34m\u001b[0m\u001b[0m\n\u001b[1;32m    133\u001b[0m     \u001b[0;32mdef\u001b[0m \u001b[0m__len__\u001b[0m\u001b[0;34m(\u001b[0m\u001b[0mself\u001b[0m\u001b[0;34m)\u001b[0m\u001b[0;34m:\u001b[0m\u001b[0;34m\u001b[0m\u001b[0m\n",
      "\u001b[0;32m~/anaconda2/envs/py36/lib/python3.6/site-packages/sklearn/model_selection/_validation.py\u001b[0m in \u001b[0;36m_fit_and_score\u001b[0;34m(estimator, X, y, scorer, train, test, verbose, parameters, fit_params, return_train_score, return_parameters, return_n_test_samples, return_times, error_score)\u001b[0m\n\u001b[1;32m    456\u001b[0m             \u001b[0mestimator\u001b[0m\u001b[0;34m.\u001b[0m\u001b[0mfit\u001b[0m\u001b[0;34m(\u001b[0m\u001b[0mX_train\u001b[0m\u001b[0;34m,\u001b[0m \u001b[0;34m**\u001b[0m\u001b[0mfit_params\u001b[0m\u001b[0;34m)\u001b[0m\u001b[0;34m\u001b[0m\u001b[0m\n\u001b[1;32m    457\u001b[0m         \u001b[0;32melse\u001b[0m\u001b[0;34m:\u001b[0m\u001b[0;34m\u001b[0m\u001b[0m\n\u001b[0;32m--> 458\u001b[0;31m             \u001b[0mestimator\u001b[0m\u001b[0;34m.\u001b[0m\u001b[0mfit\u001b[0m\u001b[0;34m(\u001b[0m\u001b[0mX_train\u001b[0m\u001b[0;34m,\u001b[0m \u001b[0my_train\u001b[0m\u001b[0;34m,\u001b[0m \u001b[0;34m**\u001b[0m\u001b[0mfit_params\u001b[0m\u001b[0;34m)\u001b[0m\u001b[0;34m\u001b[0m\u001b[0m\n\u001b[0m\u001b[1;32m    459\u001b[0m \u001b[0;34m\u001b[0m\u001b[0m\n\u001b[1;32m    460\u001b[0m     \u001b[0;32mexcept\u001b[0m \u001b[0mException\u001b[0m \u001b[0;32mas\u001b[0m \u001b[0me\u001b[0m\u001b[0;34m:\u001b[0m\u001b[0;34m\u001b[0m\u001b[0m\n",
      "\u001b[0;32m~/anaconda2/envs/py36/lib/python3.6/site-packages/sklearn/svm/base.py\u001b[0m in \u001b[0;36mfit\u001b[0;34m(self, X, y, sample_weight)\u001b[0m\n\u001b[1;32m    185\u001b[0m \u001b[0;34m\u001b[0m\u001b[0m\n\u001b[1;32m    186\u001b[0m         \u001b[0mseed\u001b[0m \u001b[0;34m=\u001b[0m \u001b[0mrnd\u001b[0m\u001b[0;34m.\u001b[0m\u001b[0mrandint\u001b[0m\u001b[0;34m(\u001b[0m\u001b[0mnp\u001b[0m\u001b[0;34m.\u001b[0m\u001b[0miinfo\u001b[0m\u001b[0;34m(\u001b[0m\u001b[0;34m'i'\u001b[0m\u001b[0;34m)\u001b[0m\u001b[0;34m.\u001b[0m\u001b[0mmax\u001b[0m\u001b[0;34m)\u001b[0m\u001b[0;34m\u001b[0m\u001b[0m\n\u001b[0;32m--> 187\u001b[0;31m         \u001b[0mfit\u001b[0m\u001b[0;34m(\u001b[0m\u001b[0mX\u001b[0m\u001b[0;34m,\u001b[0m \u001b[0my\u001b[0m\u001b[0;34m,\u001b[0m \u001b[0msample_weight\u001b[0m\u001b[0;34m,\u001b[0m \u001b[0msolver_type\u001b[0m\u001b[0;34m,\u001b[0m \u001b[0mkernel\u001b[0m\u001b[0;34m,\u001b[0m \u001b[0mrandom_seed\u001b[0m\u001b[0;34m=\u001b[0m\u001b[0mseed\u001b[0m\u001b[0;34m)\u001b[0m\u001b[0;34m\u001b[0m\u001b[0m\n\u001b[0m\u001b[1;32m    188\u001b[0m         \u001b[0;31m# see comment on the other call to np.iinfo in this file\u001b[0m\u001b[0;34m\u001b[0m\u001b[0;34m\u001b[0m\u001b[0m\n\u001b[1;32m    189\u001b[0m \u001b[0;34m\u001b[0m\u001b[0m\n",
      "\u001b[0;32m~/anaconda2/envs/py36/lib/python3.6/site-packages/sklearn/svm/base.py\u001b[0m in \u001b[0;36m_dense_fit\u001b[0;34m(self, X, y, sample_weight, solver_type, kernel, random_seed)\u001b[0m\n\u001b[1;32m    252\u001b[0m                 \u001b[0mcache_size\u001b[0m\u001b[0;34m=\u001b[0m\u001b[0mself\u001b[0m\u001b[0;34m.\u001b[0m\u001b[0mcache_size\u001b[0m\u001b[0;34m,\u001b[0m \u001b[0mcoef0\u001b[0m\u001b[0;34m=\u001b[0m\u001b[0mself\u001b[0m\u001b[0;34m.\u001b[0m\u001b[0mcoef0\u001b[0m\u001b[0;34m,\u001b[0m\u001b[0;34m\u001b[0m\u001b[0m\n\u001b[1;32m    253\u001b[0m                 \u001b[0mgamma\u001b[0m\u001b[0;34m=\u001b[0m\u001b[0mself\u001b[0m\u001b[0;34m.\u001b[0m\u001b[0m_gamma\u001b[0m\u001b[0;34m,\u001b[0m \u001b[0mepsilon\u001b[0m\u001b[0;34m=\u001b[0m\u001b[0mself\u001b[0m\u001b[0;34m.\u001b[0m\u001b[0mepsilon\u001b[0m\u001b[0;34m,\u001b[0m\u001b[0;34m\u001b[0m\u001b[0m\n\u001b[0;32m--> 254\u001b[0;31m                 max_iter=self.max_iter, random_seed=random_seed)\n\u001b[0m\u001b[1;32m    255\u001b[0m \u001b[0;34m\u001b[0m\u001b[0m\n\u001b[1;32m    256\u001b[0m         \u001b[0mself\u001b[0m\u001b[0;34m.\u001b[0m\u001b[0m_warn_from_fit_status\u001b[0m\u001b[0;34m(\u001b[0m\u001b[0;34m)\u001b[0m\u001b[0;34m\u001b[0m\u001b[0m\n",
      "\u001b[0;31mKeyboardInterrupt\u001b[0m: "
     ]
    }
   ],
   "source": [
    "from sklearn.svm import SVC\n",
    "for C in [1]:\n",
    "    svm_clf = SVC(C=C, kernel='rbf',class_weight='balanced',probability=True)\n",
    "    print('C={}'.format(C))\n",
    "    print(cross_val_score(svm_clf, X_train, y_train, cv=5))"
   ]
  },
  {
   "cell_type": "code",
   "execution_count": null,
   "metadata": {
    "ExecuteTime": {
     "end_time": "2018-05-14T12:36:30.580188Z",
     "start_time": "2018-05-14T12:35:12.821Z"
    }
   },
   "outputs": [],
   "source": [
    "from sklearn.svm import SVC\n",
    "svm_clf = SVC(C=1, kernel='rbf',class_weight='balanced')\n",
    "cv_pred = cross_val_predict(svm_clf, X_train, y_train, cv=5, method='predict_proba')\n",
    "cv_pred"
   ]
  },
  {
   "cell_type": "code",
   "execution_count": null,
   "metadata": {
    "ExecuteTime": {
     "end_time": "2018-05-14T12:36:30.582031Z",
     "start_time": "2018-05-14T12:35:13.234Z"
    }
   },
   "outputs": [],
   "source": [
    "auc = roc_auc_score(y_train, cv_pred[:,1])\n",
    "gini = 2*auc -1\n",
    "gini"
   ]
  },
  {
   "cell_type": "code",
   "execution_count": 217,
   "metadata": {
    "ExecuteTime": {
     "end_time": "2018-05-14T12:41:33.751769Z",
     "start_time": "2018-05-14T12:40:54.274704Z"
    }
   },
   "outputs": [
    {
     "data": {
      "text/plain": [
       "0.0"
      ]
     },
     "execution_count": 217,
     "metadata": {},
     "output_type": "execute_result"
    }
   ],
   "source": [
    "svm_clf = SVC(class_weight='balanced',kernel='rbf')\n",
    "svm_clf.fit(X_train,y_train)\n",
    "y_pred = svm_clf.predict(X_test)\n",
    "auc = roc_auc_score(y_test, y_pred)\n",
    "gini = 2*auc -1\n",
    "gini"
   ]
  },
  {
   "cell_type": "code",
   "execution_count": 216,
   "metadata": {
    "ExecuteTime": {
     "end_time": "2018-05-14T12:40:49.230957Z",
     "start_time": "2018-05-14T12:40:45.068582Z"
    }
   },
   "outputs": [
    {
     "data": {
      "text/plain": [
       "0.0"
      ]
     },
     "execution_count": 216,
     "metadata": {},
     "output_type": "execute_result"
    }
   ],
   "source": [
    "y_pred = svm_clf.predict(X_test)\n",
    "auc = roc_auc_score(y_test, y_pred)\n",
    "gini = 2*auc -1\n",
    "gini"
   ]
  },
  {
   "cell_type": "markdown",
   "metadata": {},
   "source": [
    "**MLP**"
   ]
  },
  {
   "cell_type": "code",
   "execution_count": 218,
   "metadata": {
    "ExecuteTime": {
     "end_time": "2018-05-14T12:42:41.117274Z",
     "start_time": "2018-05-14T12:42:32.420989Z"
    }
   },
   "outputs": [
    {
     "data": {
      "text/plain": [
       "array([0, 0, 0, ..., 0, 0, 0])"
      ]
     },
     "execution_count": 218,
     "metadata": {},
     "output_type": "execute_result"
    }
   ],
   "source": [
    "from sklearn.neural_network import MLPClassifier\n",
    "mlp_clf = MLPClassifier(hidden_layer_sizes=(100,),activation='tanh')\n",
    "cv_pred = cross_val_predict(mlp_clf, X_train, y_train, cv=5)\n",
    "cv_pred"
   ]
  },
  {
   "cell_type": "code",
   "execution_count": 223,
   "metadata": {
    "ExecuteTime": {
     "end_time": "2018-05-14T12:45:27.289467Z",
     "start_time": "2018-05-14T12:44:51.496390Z"
    }
   },
   "outputs": [
    {
     "data": {
      "text/plain": [
       "-0.08259485475992745"
      ]
     },
     "execution_count": 223,
     "metadata": {},
     "output_type": "execute_result"
    }
   ],
   "source": [
    "mlp_clf = MLPClassifier(hidden_layer_sizes=(100,))\n",
    "mlp_clf.fit(X_train_balanced,y_train_balanced)\n",
    "y_pred = mlp_clf.predict(X_test)\n",
    "auc = roc_auc_score(y_test, y_pred)\n",
    "gini = 2*auc -1\n",
    "gini"
   ]
  },
  {
   "cell_type": "code",
   "execution_count": 228,
   "metadata": {
    "ExecuteTime": {
     "end_time": "2018-05-14T12:48:34.073182Z",
     "start_time": "2018-05-14T12:48:34.015417Z"
    }
   },
   "outputs": [
    {
     "data": {
      "text/plain": [
       "-0.10342696027217446"
      ]
     },
     "execution_count": 228,
     "metadata": {},
     "output_type": "execute_result"
    }
   ],
   "source": [
    "y_pred = mlp_clf.predict_proba(X_test)\n",
    "auc = roc_auc_score(y_test, y_pred[:,1])\n",
    "gini = 2*auc -1\n",
    "gini"
   ]
  },
  {
   "cell_type": "code",
   "execution_count": null,
   "metadata": {},
   "outputs": [],
   "source": []
  }
 ],
 "metadata": {
  "kernelspec": {
   "display_name": "Python 3",
   "language": "python",
   "name": "python3"
  },
  "language_info": {
   "codemirror_mode": {
    "name": "ipython",
    "version": 3
   },
   "file_extension": ".py",
   "mimetype": "text/x-python",
   "name": "python",
   "nbconvert_exporter": "python",
   "pygments_lexer": "ipython3",
   "version": "3.6.4"
  },
  "latex_envs": {
   "LaTeX_envs_menu_present": true,
   "autoclose": false,
   "autocomplete": true,
   "bibliofile": "biblio.bib",
   "cite_by": "apalike",
   "current_citInitial": 1,
   "eqLabelWithNumbers": true,
   "eqNumInitial": 1,
   "hotkeys": {
    "equation": "Ctrl-E",
    "itemize": "Ctrl-I"
   },
   "labels_anchors": false,
   "latex_user_defs": false,
   "report_style_numbering": false,
   "user_envs_cfg": false
  }
 },
 "nbformat": 4,
 "nbformat_minor": 2
}
